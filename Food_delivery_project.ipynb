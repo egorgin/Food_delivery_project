{
 "cells": [
  {
   "cell_type": "code",
   "execution_count": 1,
   "id": "582b2f8c",
   "metadata": {},
   "outputs": [],
   "source": [
    "import numpy as np\n",
    "import pandas as pd\n",
    "import matplotlib.pyplot as plt\n",
    "import seaborn as sns\n",
    "%matplotlib inline \n",
    "from sklearn import metrics\n",
    "from sklearn.tree import DecisionTreeRegressor\n",
    "from sklearn.neighbors import KNeighborsRegressor\n",
    "from sklearn.ensemble import RandomForestRegressor\n",
    "from sklearn.linear_model import LinearRegression\n",
    "from sklearn import svm"
   ]
  },
  {
   "cell_type": "code",
   "execution_count": 2,
   "id": "4b004e5e",
   "metadata": {},
   "outputs": [
    {
     "data": {
      "text/html": [
       "<div>\n",
       "<style scoped>\n",
       "    .dataframe tbody tr th:only-of-type {\n",
       "        vertical-align: middle;\n",
       "    }\n",
       "\n",
       "    .dataframe tbody tr th {\n",
       "        vertical-align: top;\n",
       "    }\n",
       "\n",
       "    .dataframe thead th {\n",
       "        text-align: right;\n",
       "    }\n",
       "</style>\n",
       "<table border=\"1\" class=\"dataframe\">\n",
       "  <thead>\n",
       "    <tr style=\"text-align: right;\">\n",
       "      <th></th>\n",
       "      <th>ID</th>\n",
       "      <th>Delivery_person_ID</th>\n",
       "      <th>Delivery_person_Age</th>\n",
       "      <th>Delivery_person_Ratings</th>\n",
       "      <th>Restaurant_latitude</th>\n",
       "      <th>Restaurant_longitude</th>\n",
       "      <th>Delivery_location_latitude</th>\n",
       "      <th>Delivery_location_longitude</th>\n",
       "      <th>Order_Date</th>\n",
       "      <th>Time_Orderd</th>\n",
       "      <th>Time_Order_picked</th>\n",
       "      <th>Weatherconditions</th>\n",
       "      <th>Road_traffic_density</th>\n",
       "      <th>Vehicle_condition</th>\n",
       "      <th>Type_of_order</th>\n",
       "      <th>Type_of_vehicle</th>\n",
       "      <th>multiple_deliveries</th>\n",
       "      <th>Festival</th>\n",
       "      <th>City</th>\n",
       "      <th>Time_taken(min)</th>\n",
       "    </tr>\n",
       "  </thead>\n",
       "  <tbody>\n",
       "    <tr>\n",
       "      <th>0</th>\n",
       "      <td>0x4607</td>\n",
       "      <td>INDORES13DEL02</td>\n",
       "      <td>37.0</td>\n",
       "      <td>4.9</td>\n",
       "      <td>22.745049</td>\n",
       "      <td>75.892471</td>\n",
       "      <td>22.765049</td>\n",
       "      <td>75.912471</td>\n",
       "      <td>2022-03-19</td>\n",
       "      <td>11:30:00</td>\n",
       "      <td>11:45:00</td>\n",
       "      <td>conditions Sunny</td>\n",
       "      <td>High</td>\n",
       "      <td>2</td>\n",
       "      <td>Snack</td>\n",
       "      <td>motorcycle</td>\n",
       "      <td>0.0</td>\n",
       "      <td>No</td>\n",
       "      <td>Urban</td>\n",
       "      <td>(min) 24</td>\n",
       "    </tr>\n",
       "    <tr>\n",
       "      <th>1</th>\n",
       "      <td>0xb379</td>\n",
       "      <td>BANGRES18DEL02</td>\n",
       "      <td>34.0</td>\n",
       "      <td>4.5</td>\n",
       "      <td>12.913041</td>\n",
       "      <td>77.683237</td>\n",
       "      <td>13.043041</td>\n",
       "      <td>77.813237</td>\n",
       "      <td>2022-03-25</td>\n",
       "      <td>19:45:00</td>\n",
       "      <td>19:50:00</td>\n",
       "      <td>conditions Stormy</td>\n",
       "      <td>Jam</td>\n",
       "      <td>2</td>\n",
       "      <td>Snack</td>\n",
       "      <td>scooter</td>\n",
       "      <td>1.0</td>\n",
       "      <td>No</td>\n",
       "      <td>Metropolitian</td>\n",
       "      <td>(min) 33</td>\n",
       "    </tr>\n",
       "    <tr>\n",
       "      <th>2</th>\n",
       "      <td>0x5d6d</td>\n",
       "      <td>BANGRES19DEL01</td>\n",
       "      <td>23.0</td>\n",
       "      <td>4.4</td>\n",
       "      <td>12.914264</td>\n",
       "      <td>77.678400</td>\n",
       "      <td>12.924264</td>\n",
       "      <td>77.688400</td>\n",
       "      <td>2022-03-19</td>\n",
       "      <td>8:30:00</td>\n",
       "      <td>8:45:00</td>\n",
       "      <td>conditions Sandstorms</td>\n",
       "      <td>Low</td>\n",
       "      <td>0</td>\n",
       "      <td>Drinks</td>\n",
       "      <td>motorcycle</td>\n",
       "      <td>1.0</td>\n",
       "      <td>No</td>\n",
       "      <td>Urban</td>\n",
       "      <td>(min) 26</td>\n",
       "    </tr>\n",
       "    <tr>\n",
       "      <th>3</th>\n",
       "      <td>0x7a6a</td>\n",
       "      <td>COIMBRES13DEL02</td>\n",
       "      <td>38.0</td>\n",
       "      <td>4.7</td>\n",
       "      <td>11.003669</td>\n",
       "      <td>76.976494</td>\n",
       "      <td>11.053669</td>\n",
       "      <td>77.026494</td>\n",
       "      <td>2022-05-04</td>\n",
       "      <td>18:00:00</td>\n",
       "      <td>18:10:00</td>\n",
       "      <td>conditions Sunny</td>\n",
       "      <td>Medium</td>\n",
       "      <td>0</td>\n",
       "      <td>Buffet</td>\n",
       "      <td>motorcycle</td>\n",
       "      <td>1.0</td>\n",
       "      <td>No</td>\n",
       "      <td>Metropolitian</td>\n",
       "      <td>(min) 21</td>\n",
       "    </tr>\n",
       "    <tr>\n",
       "      <th>4</th>\n",
       "      <td>0x70a2</td>\n",
       "      <td>CHENRES12DEL01</td>\n",
       "      <td>32.0</td>\n",
       "      <td>4.6</td>\n",
       "      <td>12.972793</td>\n",
       "      <td>80.249982</td>\n",
       "      <td>13.012793</td>\n",
       "      <td>80.289982</td>\n",
       "      <td>2022-03-26</td>\n",
       "      <td>13:30:00</td>\n",
       "      <td>13:45:00</td>\n",
       "      <td>conditions Cloudy</td>\n",
       "      <td>High</td>\n",
       "      <td>1</td>\n",
       "      <td>Snack</td>\n",
       "      <td>scooter</td>\n",
       "      <td>1.0</td>\n",
       "      <td>No</td>\n",
       "      <td>Metropolitian</td>\n",
       "      <td>(min) 30</td>\n",
       "    </tr>\n",
       "  </tbody>\n",
       "</table>\n",
       "</div>"
      ],
      "text/plain": [
       "        ID Delivery_person_ID  Delivery_person_Age  Delivery_person_Ratings  \\\n",
       "0  0x4607     INDORES13DEL02                  37.0                      4.9   \n",
       "1  0xb379     BANGRES18DEL02                  34.0                      4.5   \n",
       "2  0x5d6d     BANGRES19DEL01                  23.0                      4.4   \n",
       "3  0x7a6a    COIMBRES13DEL02                  38.0                      4.7   \n",
       "4  0x70a2     CHENRES12DEL01                  32.0                      4.6   \n",
       "\n",
       "   Restaurant_latitude  Restaurant_longitude  Delivery_location_latitude  \\\n",
       "0            22.745049             75.892471                   22.765049   \n",
       "1            12.913041             77.683237                   13.043041   \n",
       "2            12.914264             77.678400                   12.924264   \n",
       "3            11.003669             76.976494                   11.053669   \n",
       "4            12.972793             80.249982                   13.012793   \n",
       "\n",
       "   Delivery_location_longitude Order_Date Time_Orderd Time_Order_picked  \\\n",
       "0                    75.912471 2022-03-19    11:30:00          11:45:00   \n",
       "1                    77.813237 2022-03-25    19:45:00          19:50:00   \n",
       "2                    77.688400 2022-03-19     8:30:00           8:45:00   \n",
       "3                    77.026494 2022-05-04    18:00:00          18:10:00   \n",
       "4                    80.289982 2022-03-26    13:30:00          13:45:00   \n",
       "\n",
       "       Weatherconditions Road_traffic_density  Vehicle_condition  \\\n",
       "0       conditions Sunny                High                   2   \n",
       "1      conditions Stormy                 Jam                   2   \n",
       "2  conditions Sandstorms                 Low                   0   \n",
       "3       conditions Sunny              Medium                   0   \n",
       "4      conditions Cloudy                High                   1   \n",
       "\n",
       "  Type_of_order Type_of_vehicle  multiple_deliveries Festival            City  \\\n",
       "0        Snack      motorcycle                   0.0      No           Urban    \n",
       "1        Snack         scooter                   1.0      No   Metropolitian    \n",
       "2       Drinks      motorcycle                   1.0      No           Urban    \n",
       "3       Buffet      motorcycle                   1.0      No   Metropolitian    \n",
       "4        Snack         scooter                   1.0      No   Metropolitian    \n",
       "\n",
       "  Time_taken(min)  \n",
       "0        (min) 24  \n",
       "1        (min) 33  \n",
       "2        (min) 26  \n",
       "3        (min) 21  \n",
       "4        (min) 30  "
      ]
     },
     "execution_count": 2,
     "metadata": {},
     "output_type": "execute_result"
    }
   ],
   "source": [
    "df=pd.read_csv(r'C:\\Users\\ella.gorgin\\Dropbox\\Data_Analytics\\Data_sets\\Food_delivery\\train.csv', parse_dates=[\"Order_Date\"], na_values=['NaN ','NaN'])\n",
    "df.head()"
   ]
  },
  {
   "cell_type": "code",
   "execution_count": 3,
   "id": "680a4705",
   "metadata": {},
   "outputs": [
    {
     "data": {
      "text/plain": [
       "(45593, 20)"
      ]
     },
     "execution_count": 3,
     "metadata": {},
     "output_type": "execute_result"
    }
   ],
   "source": [
    "df.shape"
   ]
  },
  {
   "cell_type": "code",
   "execution_count": 4,
   "id": "8f8b29f1",
   "metadata": {},
   "outputs": [
    {
     "data": {
      "text/plain": [
       "(45593, 20)"
      ]
     },
     "execution_count": 4,
     "metadata": {},
     "output_type": "execute_result"
    }
   ],
   "source": [
    "df= df.drop_duplicates()\n",
    "df.shape"
   ]
  },
  {
   "cell_type": "code",
   "execution_count": 5,
   "id": "b6a1aac9",
   "metadata": {},
   "outputs": [
    {
     "name": "stdout",
     "output_type": "stream",
     "text": [
      "<class 'pandas.core.frame.DataFrame'>\n",
      "Int64Index: 45593 entries, 0 to 45592\n",
      "Data columns (total 20 columns):\n",
      " #   Column                       Non-Null Count  Dtype         \n",
      "---  ------                       --------------  -----         \n",
      " 0   ID                           45593 non-null  object        \n",
      " 1   Delivery_person_ID           45593 non-null  object        \n",
      " 2   Delivery_person_Age          43739 non-null  float64       \n",
      " 3   Delivery_person_Ratings      43685 non-null  float64       \n",
      " 4   Restaurant_latitude          45593 non-null  float64       \n",
      " 5   Restaurant_longitude         45593 non-null  float64       \n",
      " 6   Delivery_location_latitude   45593 non-null  float64       \n",
      " 7   Delivery_location_longitude  45593 non-null  float64       \n",
      " 8   Order_Date                   45593 non-null  datetime64[ns]\n",
      " 9   Time_Orderd                  43862 non-null  object        \n",
      " 10  Time_Order_picked            45593 non-null  object        \n",
      " 11  Weatherconditions            45593 non-null  object        \n",
      " 12  Road_traffic_density         44992 non-null  object        \n",
      " 13  Vehicle_condition            45593 non-null  int64         \n",
      " 14  Type_of_order                45593 non-null  object        \n",
      " 15  Type_of_vehicle              45593 non-null  object        \n",
      " 16  multiple_deliveries          44600 non-null  float64       \n",
      " 17  Festival                     45365 non-null  object        \n",
      " 18  City                         44393 non-null  object        \n",
      " 19  Time_taken(min)              45593 non-null  object        \n",
      "dtypes: datetime64[ns](1), float64(7), int64(1), object(11)\n",
      "memory usage: 7.3+ MB\n"
     ]
    }
   ],
   "source": [
    "df.info()"
   ]
  },
  {
   "cell_type": "code",
   "execution_count": 6,
   "id": "0a21fa38",
   "metadata": {},
   "outputs": [
    {
     "data": {
      "text/html": [
       "<div>\n",
       "<style scoped>\n",
       "    .dataframe tbody tr th:only-of-type {\n",
       "        vertical-align: middle;\n",
       "    }\n",
       "\n",
       "    .dataframe tbody tr th {\n",
       "        vertical-align: top;\n",
       "    }\n",
       "\n",
       "    .dataframe thead th {\n",
       "        text-align: right;\n",
       "    }\n",
       "</style>\n",
       "<table border=\"1\" class=\"dataframe\">\n",
       "  <thead>\n",
       "    <tr style=\"text-align: right;\">\n",
       "      <th></th>\n",
       "      <th>count</th>\n",
       "      <th>mean</th>\n",
       "      <th>std</th>\n",
       "      <th>min</th>\n",
       "      <th>25%</th>\n",
       "      <th>50%</th>\n",
       "      <th>75%</th>\n",
       "      <th>max</th>\n",
       "    </tr>\n",
       "  </thead>\n",
       "  <tbody>\n",
       "    <tr>\n",
       "      <th>Delivery_person_Age</th>\n",
       "      <td>43739.0</td>\n",
       "      <td>29.567137</td>\n",
       "      <td>5.815155</td>\n",
       "      <td>15.000000</td>\n",
       "      <td>25.000000</td>\n",
       "      <td>30.000000</td>\n",
       "      <td>35.000000</td>\n",
       "      <td>50.000000</td>\n",
       "    </tr>\n",
       "    <tr>\n",
       "      <th>Delivery_person_Ratings</th>\n",
       "      <td>43685.0</td>\n",
       "      <td>4.633780</td>\n",
       "      <td>0.334716</td>\n",
       "      <td>1.000000</td>\n",
       "      <td>4.500000</td>\n",
       "      <td>4.700000</td>\n",
       "      <td>4.900000</td>\n",
       "      <td>6.000000</td>\n",
       "    </tr>\n",
       "    <tr>\n",
       "      <th>Restaurant_latitude</th>\n",
       "      <td>45593.0</td>\n",
       "      <td>17.017729</td>\n",
       "      <td>8.185109</td>\n",
       "      <td>-30.905562</td>\n",
       "      <td>12.933284</td>\n",
       "      <td>18.546947</td>\n",
       "      <td>22.728163</td>\n",
       "      <td>30.914057</td>\n",
       "    </tr>\n",
       "    <tr>\n",
       "      <th>Restaurant_longitude</th>\n",
       "      <td>45593.0</td>\n",
       "      <td>70.231332</td>\n",
       "      <td>22.883647</td>\n",
       "      <td>-88.366217</td>\n",
       "      <td>73.170000</td>\n",
       "      <td>75.898497</td>\n",
       "      <td>78.044095</td>\n",
       "      <td>88.433452</td>\n",
       "    </tr>\n",
       "    <tr>\n",
       "      <th>Delivery_location_latitude</th>\n",
       "      <td>45593.0</td>\n",
       "      <td>17.465186</td>\n",
       "      <td>7.335122</td>\n",
       "      <td>0.010000</td>\n",
       "      <td>12.988453</td>\n",
       "      <td>18.633934</td>\n",
       "      <td>22.785049</td>\n",
       "      <td>31.054057</td>\n",
       "    </tr>\n",
       "    <tr>\n",
       "      <th>Delivery_location_longitude</th>\n",
       "      <td>45593.0</td>\n",
       "      <td>70.845702</td>\n",
       "      <td>21.118812</td>\n",
       "      <td>0.010000</td>\n",
       "      <td>73.280000</td>\n",
       "      <td>76.002574</td>\n",
       "      <td>78.107044</td>\n",
       "      <td>88.563452</td>\n",
       "    </tr>\n",
       "    <tr>\n",
       "      <th>Vehicle_condition</th>\n",
       "      <td>45593.0</td>\n",
       "      <td>1.023359</td>\n",
       "      <td>0.839065</td>\n",
       "      <td>0.000000</td>\n",
       "      <td>0.000000</td>\n",
       "      <td>1.000000</td>\n",
       "      <td>2.000000</td>\n",
       "      <td>3.000000</td>\n",
       "    </tr>\n",
       "    <tr>\n",
       "      <th>multiple_deliveries</th>\n",
       "      <td>44600.0</td>\n",
       "      <td>0.744664</td>\n",
       "      <td>0.572473</td>\n",
       "      <td>0.000000</td>\n",
       "      <td>0.000000</td>\n",
       "      <td>1.000000</td>\n",
       "      <td>1.000000</td>\n",
       "      <td>3.000000</td>\n",
       "    </tr>\n",
       "  </tbody>\n",
       "</table>\n",
       "</div>"
      ],
      "text/plain": [
       "                               count       mean        std        min  \\\n",
       "Delivery_person_Age          43739.0  29.567137   5.815155  15.000000   \n",
       "Delivery_person_Ratings      43685.0   4.633780   0.334716   1.000000   \n",
       "Restaurant_latitude          45593.0  17.017729   8.185109 -30.905562   \n",
       "Restaurant_longitude         45593.0  70.231332  22.883647 -88.366217   \n",
       "Delivery_location_latitude   45593.0  17.465186   7.335122   0.010000   \n",
       "Delivery_location_longitude  45593.0  70.845702  21.118812   0.010000   \n",
       "Vehicle_condition            45593.0   1.023359   0.839065   0.000000   \n",
       "multiple_deliveries          44600.0   0.744664   0.572473   0.000000   \n",
       "\n",
       "                                   25%        50%        75%        max  \n",
       "Delivery_person_Age          25.000000  30.000000  35.000000  50.000000  \n",
       "Delivery_person_Ratings       4.500000   4.700000   4.900000   6.000000  \n",
       "Restaurant_latitude          12.933284  18.546947  22.728163  30.914057  \n",
       "Restaurant_longitude         73.170000  75.898497  78.044095  88.433452  \n",
       "Delivery_location_latitude   12.988453  18.633934  22.785049  31.054057  \n",
       "Delivery_location_longitude  73.280000  76.002574  78.107044  88.563452  \n",
       "Vehicle_condition             0.000000   1.000000   2.000000   3.000000  \n",
       "multiple_deliveries           0.000000   1.000000   1.000000   3.000000  "
      ]
     },
     "execution_count": 6,
     "metadata": {},
     "output_type": "execute_result"
    }
   ],
   "source": [
    "df.describe().T"
   ]
  },
  {
   "cell_type": "code",
   "execution_count": 7,
   "id": "24241312",
   "metadata": {},
   "outputs": [
    {
     "data": {
      "text/plain": [
       "ID                                0\n",
       "Delivery_person_ID                0\n",
       "Delivery_person_Age            1854\n",
       "Delivery_person_Ratings        1908\n",
       "Restaurant_latitude               0\n",
       "Restaurant_longitude              0\n",
       "Delivery_location_latitude        0\n",
       "Delivery_location_longitude       0\n",
       "Order_Date                        0\n",
       "Time_Orderd                    1731\n",
       "Time_Order_picked                 0\n",
       "Weatherconditions                 0\n",
       "Road_traffic_density            601\n",
       "Vehicle_condition                 0\n",
       "Type_of_order                     0\n",
       "Type_of_vehicle                   0\n",
       "multiple_deliveries             993\n",
       "Festival                        228\n",
       "City                           1200\n",
       "Time_taken(min)                   0\n",
       "dtype: int64"
      ]
     },
     "execution_count": 7,
     "metadata": {},
     "output_type": "execute_result"
    }
   ],
   "source": [
    "df.isnull().sum()"
   ]
  },
  {
   "cell_type": "markdown",
   "id": "5c4c2318",
   "metadata": {},
   "source": [
    "# Renaming columns"
   ]
  },
  {
   "cell_type": "code",
   "execution_count": 8,
   "id": "87b13280",
   "metadata": {},
   "outputs": [
    {
     "data": {
      "text/html": [
       "<div>\n",
       "<style scoped>\n",
       "    .dataframe tbody tr th:only-of-type {\n",
       "        vertical-align: middle;\n",
       "    }\n",
       "\n",
       "    .dataframe tbody tr th {\n",
       "        vertical-align: top;\n",
       "    }\n",
       "\n",
       "    .dataframe thead th {\n",
       "        text-align: right;\n",
       "    }\n",
       "</style>\n",
       "<table border=\"1\" class=\"dataframe\">\n",
       "  <thead>\n",
       "    <tr style=\"text-align: right;\">\n",
       "      <th></th>\n",
       "      <th>Customer_ID</th>\n",
       "      <th>Delivery_person_ID</th>\n",
       "      <th>Delivery_person_Age</th>\n",
       "      <th>Delivery_person_Ratings</th>\n",
       "      <th>Restaurant_latitude</th>\n",
       "      <th>Restaurant_longitude</th>\n",
       "      <th>Delivery_location_latitude</th>\n",
       "      <th>Delivery_location_longitude</th>\n",
       "      <th>Order_Date</th>\n",
       "      <th>Time_Ordered</th>\n",
       "      <th>Time_Order_picked</th>\n",
       "      <th>Weather_conditions</th>\n",
       "      <th>Traffic_conditions</th>\n",
       "      <th>Vehicle_condition</th>\n",
       "      <th>Type_of_order</th>\n",
       "      <th>Type_of_vehicle</th>\n",
       "      <th>multiple_deliveries</th>\n",
       "      <th>Festival</th>\n",
       "      <th>City</th>\n",
       "      <th>Time_taken(min)</th>\n",
       "    </tr>\n",
       "  </thead>\n",
       "  <tbody>\n",
       "    <tr>\n",
       "      <th>0</th>\n",
       "      <td>0x4607</td>\n",
       "      <td>INDORES13DEL02</td>\n",
       "      <td>37.0</td>\n",
       "      <td>4.9</td>\n",
       "      <td>22.745049</td>\n",
       "      <td>75.892471</td>\n",
       "      <td>22.765049</td>\n",
       "      <td>75.912471</td>\n",
       "      <td>2022-03-19</td>\n",
       "      <td>11:30:00</td>\n",
       "      <td>11:45:00</td>\n",
       "      <td>conditions Sunny</td>\n",
       "      <td>High</td>\n",
       "      <td>2</td>\n",
       "      <td>Snack</td>\n",
       "      <td>motorcycle</td>\n",
       "      <td>0.0</td>\n",
       "      <td>No</td>\n",
       "      <td>Urban</td>\n",
       "      <td>(min) 24</td>\n",
       "    </tr>\n",
       "    <tr>\n",
       "      <th>1</th>\n",
       "      <td>0xb379</td>\n",
       "      <td>BANGRES18DEL02</td>\n",
       "      <td>34.0</td>\n",
       "      <td>4.5</td>\n",
       "      <td>12.913041</td>\n",
       "      <td>77.683237</td>\n",
       "      <td>13.043041</td>\n",
       "      <td>77.813237</td>\n",
       "      <td>2022-03-25</td>\n",
       "      <td>19:45:00</td>\n",
       "      <td>19:50:00</td>\n",
       "      <td>conditions Stormy</td>\n",
       "      <td>Jam</td>\n",
       "      <td>2</td>\n",
       "      <td>Snack</td>\n",
       "      <td>scooter</td>\n",
       "      <td>1.0</td>\n",
       "      <td>No</td>\n",
       "      <td>Metropolitian</td>\n",
       "      <td>(min) 33</td>\n",
       "    </tr>\n",
       "    <tr>\n",
       "      <th>2</th>\n",
       "      <td>0x5d6d</td>\n",
       "      <td>BANGRES19DEL01</td>\n",
       "      <td>23.0</td>\n",
       "      <td>4.4</td>\n",
       "      <td>12.914264</td>\n",
       "      <td>77.678400</td>\n",
       "      <td>12.924264</td>\n",
       "      <td>77.688400</td>\n",
       "      <td>2022-03-19</td>\n",
       "      <td>8:30:00</td>\n",
       "      <td>8:45:00</td>\n",
       "      <td>conditions Sandstorms</td>\n",
       "      <td>Low</td>\n",
       "      <td>0</td>\n",
       "      <td>Drinks</td>\n",
       "      <td>motorcycle</td>\n",
       "      <td>1.0</td>\n",
       "      <td>No</td>\n",
       "      <td>Urban</td>\n",
       "      <td>(min) 26</td>\n",
       "    </tr>\n",
       "    <tr>\n",
       "      <th>3</th>\n",
       "      <td>0x7a6a</td>\n",
       "      <td>COIMBRES13DEL02</td>\n",
       "      <td>38.0</td>\n",
       "      <td>4.7</td>\n",
       "      <td>11.003669</td>\n",
       "      <td>76.976494</td>\n",
       "      <td>11.053669</td>\n",
       "      <td>77.026494</td>\n",
       "      <td>2022-05-04</td>\n",
       "      <td>18:00:00</td>\n",
       "      <td>18:10:00</td>\n",
       "      <td>conditions Sunny</td>\n",
       "      <td>Medium</td>\n",
       "      <td>0</td>\n",
       "      <td>Buffet</td>\n",
       "      <td>motorcycle</td>\n",
       "      <td>1.0</td>\n",
       "      <td>No</td>\n",
       "      <td>Metropolitian</td>\n",
       "      <td>(min) 21</td>\n",
       "    </tr>\n",
       "    <tr>\n",
       "      <th>4</th>\n",
       "      <td>0x70a2</td>\n",
       "      <td>CHENRES12DEL01</td>\n",
       "      <td>32.0</td>\n",
       "      <td>4.6</td>\n",
       "      <td>12.972793</td>\n",
       "      <td>80.249982</td>\n",
       "      <td>13.012793</td>\n",
       "      <td>80.289982</td>\n",
       "      <td>2022-03-26</td>\n",
       "      <td>13:30:00</td>\n",
       "      <td>13:45:00</td>\n",
       "      <td>conditions Cloudy</td>\n",
       "      <td>High</td>\n",
       "      <td>1</td>\n",
       "      <td>Snack</td>\n",
       "      <td>scooter</td>\n",
       "      <td>1.0</td>\n",
       "      <td>No</td>\n",
       "      <td>Metropolitian</td>\n",
       "      <td>(min) 30</td>\n",
       "    </tr>\n",
       "  </tbody>\n",
       "</table>\n",
       "</div>"
      ],
      "text/plain": [
       "  Customer_ID Delivery_person_ID  Delivery_person_Age  \\\n",
       "0     0x4607     INDORES13DEL02                  37.0   \n",
       "1     0xb379     BANGRES18DEL02                  34.0   \n",
       "2     0x5d6d     BANGRES19DEL01                  23.0   \n",
       "3     0x7a6a    COIMBRES13DEL02                  38.0   \n",
       "4     0x70a2     CHENRES12DEL01                  32.0   \n",
       "\n",
       "   Delivery_person_Ratings  Restaurant_latitude  Restaurant_longitude  \\\n",
       "0                      4.9            22.745049             75.892471   \n",
       "1                      4.5            12.913041             77.683237   \n",
       "2                      4.4            12.914264             77.678400   \n",
       "3                      4.7            11.003669             76.976494   \n",
       "4                      4.6            12.972793             80.249982   \n",
       "\n",
       "   Delivery_location_latitude  Delivery_location_longitude Order_Date  \\\n",
       "0                   22.765049                    75.912471 2022-03-19   \n",
       "1                   13.043041                    77.813237 2022-03-25   \n",
       "2                   12.924264                    77.688400 2022-03-19   \n",
       "3                   11.053669                    77.026494 2022-05-04   \n",
       "4                   13.012793                    80.289982 2022-03-26   \n",
       "\n",
       "  Time_Ordered Time_Order_picked     Weather_conditions Traffic_conditions  \\\n",
       "0     11:30:00          11:45:00       conditions Sunny              High    \n",
       "1     19:45:00          19:50:00      conditions Stormy               Jam    \n",
       "2      8:30:00           8:45:00  conditions Sandstorms               Low    \n",
       "3     18:00:00          18:10:00       conditions Sunny            Medium    \n",
       "4     13:30:00          13:45:00      conditions Cloudy              High    \n",
       "\n",
       "   Vehicle_condition Type_of_order Type_of_vehicle  multiple_deliveries  \\\n",
       "0                  2        Snack      motorcycle                   0.0   \n",
       "1                  2        Snack         scooter                   1.0   \n",
       "2                  0       Drinks      motorcycle                   1.0   \n",
       "3                  0       Buffet      motorcycle                   1.0   \n",
       "4                  1        Snack         scooter                   1.0   \n",
       "\n",
       "  Festival            City Time_taken(min)  \n",
       "0      No           Urban         (min) 24  \n",
       "1      No   Metropolitian         (min) 33  \n",
       "2      No           Urban         (min) 26  \n",
       "3      No   Metropolitian         (min) 21  \n",
       "4      No   Metropolitian         (min) 30  "
      ]
     },
     "execution_count": 8,
     "metadata": {},
     "output_type": "execute_result"
    }
   ],
   "source": [
    "df.rename(columns = {'Time_Orderd':'Time_Ordered', 'ID':'Customer_ID','Road_traffic_density':'Traffic_conditions',\\\n",
    "                     'Weatherconditions':'Weather_conditions'}, inplace=True)\n",
    "df.head()"
   ]
  },
  {
   "cell_type": "markdown",
   "id": "27b12b1a",
   "metadata": {},
   "source": [
    "# Order-Date column"
   ]
  },
  {
   "cell_type": "code",
   "execution_count": 9,
   "id": "b325577a",
   "metadata": {},
   "outputs": [],
   "source": [
    "df['day'] = df['Order_Date'].map(lambda x: x.day)\n",
    "df['month'] = df['Order_Date'].map(lambda x: x.month)\n",
    "df['year'] = df['Order_Date'].map(lambda x: x.year)"
   ]
  },
  {
   "cell_type": "code",
   "execution_count": 10,
   "id": "5cc48640",
   "metadata": {
    "scrolled": true
   },
   "outputs": [
    {
     "name": "stdout",
     "output_type": "stream",
     "text": [
      "<class 'pandas.core.frame.DataFrame'>\n",
      "Int64Index: 45593 entries, 0 to 45592\n",
      "Data columns (total 23 columns):\n",
      " #   Column                       Non-Null Count  Dtype         \n",
      "---  ------                       --------------  -----         \n",
      " 0   Customer_ID                  45593 non-null  object        \n",
      " 1   Delivery_person_ID           45593 non-null  object        \n",
      " 2   Delivery_person_Age          43739 non-null  float64       \n",
      " 3   Delivery_person_Ratings      43685 non-null  float64       \n",
      " 4   Restaurant_latitude          45593 non-null  float64       \n",
      " 5   Restaurant_longitude         45593 non-null  float64       \n",
      " 6   Delivery_location_latitude   45593 non-null  float64       \n",
      " 7   Delivery_location_longitude  45593 non-null  float64       \n",
      " 8   Order_Date                   45593 non-null  datetime64[ns]\n",
      " 9   Time_Ordered                 43862 non-null  object        \n",
      " 10  Time_Order_picked            45593 non-null  object        \n",
      " 11  Weather_conditions           45593 non-null  object        \n",
      " 12  Traffic_conditions           44992 non-null  object        \n",
      " 13  Vehicle_condition            45593 non-null  int64         \n",
      " 14  Type_of_order                45593 non-null  object        \n",
      " 15  Type_of_vehicle              45593 non-null  object        \n",
      " 16  multiple_deliveries          44600 non-null  float64       \n",
      " 17  Festival                     45365 non-null  object        \n",
      " 18  City                         44393 non-null  object        \n",
      " 19  Time_taken(min)              45593 non-null  object        \n",
      " 20  day                          45593 non-null  int64         \n",
      " 21  month                        45593 non-null  int64         \n",
      " 22  year                         45593 non-null  int64         \n",
      "dtypes: datetime64[ns](1), float64(7), int64(4), object(11)\n",
      "memory usage: 8.3+ MB\n"
     ]
    }
   ],
   "source": [
    "df.info()"
   ]
  },
  {
   "cell_type": "markdown",
   "id": "84e421d7",
   "metadata": {},
   "source": [
    "# Time taken(min)"
   ]
  },
  {
   "cell_type": "code",
   "execution_count": 11,
   "id": "d97faf50",
   "metadata": {},
   "outputs": [
    {
     "data": {
      "text/plain": [
       "0    37.0\n",
       "1    34.0\n",
       "2    23.0\n",
       "3    38.0\n",
       "4    32.0\n",
       "Name: Delivery_person_Age, dtype: float64"
      ]
     },
     "execution_count": 11,
     "metadata": {},
     "output_type": "execute_result"
    }
   ],
   "source": [
    "df['Delivery_person_Age'].head()"
   ]
  },
  {
   "cell_type": "code",
   "execution_count": 12,
   "id": "bcd4a4c5",
   "metadata": {},
   "outputs": [
    {
     "data": {
      "text/plain": [
       "0    24\n",
       "1    33\n",
       "2    26\n",
       "3    21\n",
       "4    30\n",
       "Name: Time_taken(min), dtype: int64"
      ]
     },
     "execution_count": 12,
     "metadata": {},
     "output_type": "execute_result"
    }
   ],
   "source": [
    "df['Time_taken(min)']=df['Time_taken(min)'].apply(lambda x: int(x.split(' ')[1]))\n",
    "df['Time_taken(min)'].head()"
   ]
  },
  {
   "cell_type": "code",
   "execution_count": 13,
   "id": "942335e4",
   "metadata": {},
   "outputs": [
    {
     "name": "stdout",
     "output_type": "stream",
     "text": [
      "The delivery time takes betwwen 10 to 54 minutes!\n"
     ]
    }
   ],
   "source": [
    "print('The delivery time takes betwwen' , df['Time_taken(min)'].min(), 'to', df['Time_taken(min)'].max(), 'minutes!')"
   ]
  },
  {
   "cell_type": "code",
   "execution_count": 14,
   "id": "7ff917f5",
   "metadata": {},
   "outputs": [
    {
     "name": "stderr",
     "output_type": "stream",
     "text": [
      "C:\\Users\\ella.gorgin\\Anaconda3\\lib\\site-packages\\seaborn\\_decorators.py:36: FutureWarning: Pass the following variable as a keyword arg: x. From version 0.12, the only valid positional argument will be `data`, and passing other arguments without an explicit keyword will result in an error or misinterpretation.\n",
      "  warnings.warn(\n"
     ]
    },
    {
     "data": {
      "image/png": "[encoded data removed]",
      "text/plain": [
       "<Figure size 432x288 with 1 Axes>"
      ]
     },
     "metadata": {
      "needs_background": "light"
     },
     "output_type": "display_data"
    }
   ],
   "source": [
    "sns.boxplot(df['Time_taken(min)'])\n",
    "plt.show()"
   ]
  },
  {
   "cell_type": "code",
   "execution_count": 15,
   "id": "f014654d",
   "metadata": {},
   "outputs": [],
   "source": [
    "df=df[df['Time_taken(min)']<52]"
   ]
  },
  {
   "cell_type": "markdown",
   "id": "42ab8c23",
   "metadata": {},
   "source": [
    "# Delivery person age"
   ]
  },
  {
   "cell_type": "code",
   "execution_count": 16,
   "id": "5cbcd4b0",
   "metadata": {
    "scrolled": true
   },
   "outputs": [
    {
     "data": {
      "text/plain": [
       "Delivery_person_Age\n",
       "15.0      38\n",
       "20.0    2131\n",
       "21.0    2145\n",
       "22.0    2188\n",
       "23.0    2084\n",
       "24.0    2207\n",
       "25.0    2170\n",
       "26.0    2155\n",
       "27.0    2143\n",
       "28.0    2176\n",
       "29.0    2187\n",
       "30.0    2204\n",
       "31.0    2095\n",
       "32.0    2179\n",
       "33.0    2164\n",
       "34.0    2150\n",
       "35.0    2246\n",
       "36.0    2237\n",
       "37.0    2207\n",
       "38.0    2202\n",
       "39.0    2125\n",
       "50.0      53\n",
       "Name: Delivery_person_Age, dtype: int64"
      ]
     },
     "execution_count": 16,
     "metadata": {},
     "output_type": "execute_result"
    }
   ],
   "source": [
    "df.groupby('Delivery_person_Age')['Delivery_person_Age'].aggregate('count')"
   ]
  },
  {
   "cell_type": "code",
   "execution_count": 17,
   "id": "b0211350",
   "metadata": {},
   "outputs": [
    {
     "name": "stderr",
     "output_type": "stream",
     "text": [
      "C:\\Users\\ella.gorgin\\Anaconda3\\lib\\site-packages\\seaborn\\_decorators.py:36: FutureWarning: Pass the following variable as a keyword arg: x. From version 0.12, the only valid positional argument will be `data`, and passing other arguments without an explicit keyword will result in an error or misinterpretation.\n",
      "  warnings.warn(\n"
     ]
    },
    {
     "data": {
      "image/png": "[encoded data removed]",
      "text/plain": [
       "<Figure size 432x288 with 1 Axes>"
      ]
     },
     "metadata": {
      "needs_background": "light"
     },
     "output_type": "display_data"
    }
   ],
   "source": [
    "sns.boxplot(df['Delivery_person_Age'])\n",
    "plt.show()"
   ]
  },
  {
   "cell_type": "code",
   "execution_count": 18,
   "id": "563075c0",
   "metadata": {},
   "outputs": [
    {
     "data": {
      "text/plain": [
       "<AxesSubplot:xlabel='Delivery_person_Age', ylabel='Count'>"
      ]
     },
     "execution_count": 18,
     "metadata": {},
     "output_type": "execute_result"
    },
    {
     "data": {
      "image/png": "[encoded data removed]",
      "text/plain": [
       "<Figure size 432x288 with 1 Axes>"
      ]
     },
     "metadata": {
      "needs_background": "light"
     },
     "output_type": "display_data"
    }
   ],
   "source": [
    "sns.histplot(df['Delivery_person_Age'])"
   ]
  },
  {
   "cell_type": "code",
   "execution_count": 19,
   "id": "fdc1c2bd",
   "metadata": {},
   "outputs": [],
   "source": [
    "df['Delivery_person_Age']=df['Delivery_person_Age'].fillna(df['Delivery_person_Age'].mean())"
   ]
  },
  {
   "cell_type": "markdown",
   "id": "897e4b0b",
   "metadata": {},
   "source": [
    "#  Delivery person ratings "
   ]
  },
  {
   "cell_type": "code",
   "execution_count": 20,
   "id": "89e62dbd",
   "metadata": {},
   "outputs": [
    {
     "data": {
      "text/plain": [
       "Delivery_person_Ratings\n",
       "1.0      38\n",
       "2.5      20\n",
       "2.6      22\n",
       "2.7      22\n",
       "2.8      19\n",
       "2.9      19\n",
       "3.0       6\n",
       "3.1      29\n",
       "3.2      29\n",
       "3.3      25\n",
       "3.4      32\n",
       "3.5     247\n",
       "3.6     201\n",
       "3.7     220\n",
       "3.8     227\n",
       "3.9     190\n",
       "4.0    1067\n",
       "4.1    1413\n",
       "4.2    1399\n",
       "4.3    1390\n",
       "4.4    1345\n",
       "4.5    3285\n",
       "4.6    6903\n",
       "4.7    7117\n",
       "4.8    7122\n",
       "4.9    7016\n",
       "5.0    3976\n",
       "6.0      53\n",
       "Name: Delivery_person_Ratings, dtype: int64"
      ]
     },
     "execution_count": 20,
     "metadata": {},
     "output_type": "execute_result"
    }
   ],
   "source": [
    "df.groupby('Delivery_person_Ratings')['Delivery_person_Ratings'].aggregate('count')"
   ]
  },
  {
   "cell_type": "code",
   "execution_count": 21,
   "id": "feee32be",
   "metadata": {},
   "outputs": [
    {
     "data": {
      "text/plain": [
       "<AxesSubplot:xlabel='Delivery_person_Ratings', ylabel='Count'>"
      ]
     },
     "execution_count": 21,
     "metadata": {},
     "output_type": "execute_result"
    },
    {
     "data": {
      "image/png": "[encoded data removed]",
      "text/plain": [
       "<Figure size 432x288 with 1 Axes>"
      ]
     },
     "metadata": {
      "needs_background": "light"
     },
     "output_type": "display_data"
    }
   ],
   "source": [
    "sns.histplot(df['Delivery_person_Ratings'])"
   ]
  },
  {
   "cell_type": "code",
   "execution_count": 22,
   "id": "e6f40982",
   "metadata": {},
   "outputs": [
    {
     "name": "stderr",
     "output_type": "stream",
     "text": [
      "C:\\Users\\ella.gorgin\\Anaconda3\\lib\\site-packages\\seaborn\\_decorators.py:36: FutureWarning: Pass the following variable as a keyword arg: x. From version 0.12, the only valid positional argument will be `data`, and passing other arguments without an explicit keyword will result in an error or misinterpretation.\n",
      "  warnings.warn(\n"
     ]
    },
    {
     "data": {
      "image/png": "[encoded data removed]",
      "text/plain": [
       "<Figure size 432x288 with 1 Axes>"
      ]
     },
     "metadata": {
      "needs_background": "light"
     },
     "output_type": "display_data"
    }
   ],
   "source": [
    "sns.boxplot(df['Delivery_person_Ratings'])\n",
    "plt.show()"
   ]
  },
  {
   "cell_type": "code",
   "execution_count": 23,
   "id": "c9ac802b",
   "metadata": {},
   "outputs": [],
   "source": [
    "max_quantile= df['Delivery_person_Ratings'].quantile(1)\n",
    "min_quantile=df['Delivery_person_Ratings'].quantile(0.05)\n",
    "df=df[(df['Delivery_person_Ratings']<max_quantile) & (df['Delivery_person_Ratings']>min_quantile)]"
   ]
  },
  {
   "cell_type": "code",
   "execution_count": 24,
   "id": "7f1123f5",
   "metadata": {},
   "outputs": [],
   "source": [
    "df['Delivery_person_Ratings']=df['Delivery_person_Ratings'].fillna(df['Delivery_person_Ratings'].median())"
   ]
  },
  {
   "cell_type": "markdown",
   "id": "c55d66fa",
   "metadata": {},
   "source": [
    "# Time ordered"
   ]
  },
  {
   "cell_type": "code",
   "execution_count": 25,
   "id": "5e29913e",
   "metadata": {},
   "outputs": [
    {
     "data": {
      "text/plain": [
       "Time_Ordered\n",
       "0:00:00     408\n",
       "10:00:00    206\n",
       "10:10:00    144\n",
       "10:15:00    166\n",
       "10:20:00    181\n",
       "           ... \n",
       "9:35:00     157\n",
       "9:40:00     169\n",
       "9:45:00     164\n",
       "9:50:00     176\n",
       "9:55:00     178\n",
       "Name: Time_Ordered, Length: 176, dtype: int64"
      ]
     },
     "execution_count": 25,
     "metadata": {},
     "output_type": "execute_result"
    }
   ],
   "source": [
    "df.groupby('Time_Ordered')['Time_Ordered'].aggregate('count')"
   ]
  },
  {
   "cell_type": "code",
   "execution_count": 26,
   "id": "6c064002",
   "metadata": {},
   "outputs": [
    {
     "data": {
      "text/plain": [
       "'17:55:00'"
      ]
     },
     "execution_count": 26,
     "metadata": {},
     "output_type": "execute_result"
    }
   ],
   "source": [
    "df['Time_Ordered'].mode()[0]"
   ]
  },
  {
   "cell_type": "code",
   "execution_count": 27,
   "id": "d6398b62",
   "metadata": {},
   "outputs": [],
   "source": [
    "df['Time_Ordered']=df['Time_Ordered'].fillna(df['Time_Ordered'].mode()[0])"
   ]
  },
  {
   "cell_type": "code",
   "execution_count": 28,
   "id": "31976373",
   "metadata": {},
   "outputs": [],
   "source": [
    "#df=df.dropna(subset=['Time_Ordered'], axis=0)\n",
    "#df.shape"
   ]
  },
  {
   "cell_type": "code",
   "execution_count": 29,
   "id": "07c9cfb8",
   "metadata": {},
   "outputs": [
    {
     "data": {
      "text/plain": [
       "0    11\n",
       "1    19\n",
       "2     8\n",
       "3    18\n",
       "4    13\n",
       "Name: Time_Ordered_hour, dtype: object"
      ]
     },
     "execution_count": 29,
     "metadata": {},
     "output_type": "execute_result"
    }
   ],
   "source": [
    "df['Time_Ordered_hour']=df['Time_Ordered'].apply(lambda x: x.split(':')[0])\n",
    "df['Time_Ordered_hour'].head()"
   ]
  },
  {
   "cell_type": "code",
   "execution_count": 30,
   "id": "90e03223",
   "metadata": {},
   "outputs": [
    {
     "data": {
      "text/plain": [
       "0    30\n",
       "1    45\n",
       "2    30\n",
       "3    00\n",
       "4    30\n",
       "Name: Time_Ordered_minute, dtype: object"
      ]
     },
     "execution_count": 30,
     "metadata": {},
     "output_type": "execute_result"
    }
   ],
   "source": [
    "df['Time_Ordered_minute']=df['Time_Ordered'].apply(lambda x: x.split(':')[1])\n",
    "df['Time_Ordered_minute'].head()"
   ]
  },
  {
   "cell_type": "code",
   "execution_count": 31,
   "id": "c3fd59d2",
   "metadata": {},
   "outputs": [],
   "source": [
    "df['Time_Ordered_hour']= df['Time_Ordered_hour'].astype('float64')\n",
    "df['Time_Ordered_minute']= df['Time_Ordered_minute'].astype('float64')"
   ]
  },
  {
   "cell_type": "markdown",
   "id": "1118e9be",
   "metadata": {},
   "source": [
    "# Time order picked"
   ]
  },
  {
   "cell_type": "code",
   "execution_count": 32,
   "id": "d93ef253",
   "metadata": {},
   "outputs": [
    {
     "data": {
      "text/plain": [
       "Time_Order_picked\n",
       "0:00:00     392\n",
       "0:05:00     386\n",
       "0:10:00     249\n",
       "0:15:00     153\n",
       "10:00:00    182\n",
       "           ... \n",
       "9:35:00     177\n",
       "9:40:00     141\n",
       "9:45:00     173\n",
       "9:50:00     161\n",
       "9:55:00     156\n",
       "Name: Time_Order_picked, Length: 193, dtype: int64"
      ]
     },
     "execution_count": 32,
     "metadata": {},
     "output_type": "execute_result"
    }
   ],
   "source": [
    "df.groupby('Time_Order_picked')['Time_Order_picked'].aggregate('count')"
   ]
  },
  {
   "cell_type": "code",
   "execution_count": 33,
   "id": "f1829d7c",
   "metadata": {},
   "outputs": [
    {
     "data": {
      "text/plain": [
       "0    11\n",
       "1    19\n",
       "2     8\n",
       "3    18\n",
       "4    13\n",
       "Name: Time_Order_picked_hour, dtype: object"
      ]
     },
     "execution_count": 33,
     "metadata": {},
     "output_type": "execute_result"
    }
   ],
   "source": [
    "df['Time_Order_picked_hour']=df['Time_Order_picked'].apply(lambda x: x.split(':')[0])\n",
    "df['Time_Order_picked_hour'].head()"
   ]
  },
  {
   "cell_type": "code",
   "execution_count": 34,
   "id": "23c283e1",
   "metadata": {},
   "outputs": [
    {
     "data": {
      "text/plain": [
       "0    45\n",
       "1    50\n",
       "2    45\n",
       "3    10\n",
       "4    45\n",
       "Name: Time_Order_picked_minute, dtype: object"
      ]
     },
     "execution_count": 34,
     "metadata": {},
     "output_type": "execute_result"
    }
   ],
   "source": [
    "df['Time_Order_picked_minute']=df['Time_Order_picked'].apply(lambda x: x.split(':')[1])\n",
    "df['Time_Order_picked_minute'].head()"
   ]
  },
  {
   "cell_type": "code",
   "execution_count": 35,
   "id": "da045b3e",
   "metadata": {},
   "outputs": [],
   "source": [
    "df['Time_Order_picked_hour']= df['Time_Order_picked_hour'].astype('float64')\n",
    "df['Time_Order_picked_minute']= df['Time_Order_picked_minute'].astype('float64')"
   ]
  },
  {
   "cell_type": "markdown",
   "id": "928906b6",
   "metadata": {},
   "source": [
    "# Creating a new feature, prep_time"
   ]
  },
  {
   "cell_type": "code",
   "execution_count": 36,
   "id": "f632c3b3",
   "metadata": {},
   "outputs": [],
   "source": [
    "time_list=[]\n",
    "for i in range(len(df['Time_Ordered'])):\n",
    "    if df['Time_Ordered_hour'].iloc[i]== df['Time_Order_picked_hour'].iloc[i]:\n",
    "        time_list.append(df['Time_Order_picked_minute'].iloc[i]-df['Time_Ordered_minute'].iloc[i])\n",
    "    else:\n",
    "        time_list.append(60-df['Time_Ordered_minute'].iloc[i]+df['Time_Order_picked_minute'].iloc[i])\n",
    "    "
   ]
  },
  {
   "cell_type": "code",
   "execution_count": 37,
   "id": "c3abea98",
   "metadata": {},
   "outputs": [],
   "source": [
    "# the prep time feature shows the amount of time it takes from order being placed to the order being picked by the delivery person\n",
    "# the time taken feature shows the amount of time it takes from order being placed to the order being delivered by the delivery person\n",
    "df['prep_time']=time_list"
   ]
  },
  {
   "cell_type": "code",
   "execution_count": 38,
   "id": "65336d0e",
   "metadata": {},
   "outputs": [],
   "source": [
    "min=df['prep_time'].min()\n",
    "max= df['prep_time'].max()"
   ]
  },
  {
   "cell_type": "code",
   "execution_count": 39,
   "id": "6ec37017",
   "metadata": {},
   "outputs": [
    {
     "name": "stdout",
     "output_type": "stream",
     "text": [
      "The prep time takes betwwen 5.0 to 15.0 minutes!\n"
     ]
    }
   ],
   "source": [
    "print('The prep time takes betwwen' , min, 'to', max, 'minutes!')"
   ]
  },
  {
   "cell_type": "code",
   "execution_count": 40,
   "id": "92e40c6a",
   "metadata": {},
   "outputs": [
    {
     "data": {
      "text/html": [
       "<div>\n",
       "<style scoped>\n",
       "    .dataframe tbody tr th:only-of-type {\n",
       "        vertical-align: middle;\n",
       "    }\n",
       "\n",
       "    .dataframe tbody tr th {\n",
       "        vertical-align: top;\n",
       "    }\n",
       "\n",
       "    .dataframe thead th {\n",
       "        text-align: right;\n",
       "    }\n",
       "</style>\n",
       "<table border=\"1\" class=\"dataframe\">\n",
       "  <thead>\n",
       "    <tr style=\"text-align: right;\">\n",
       "      <th></th>\n",
       "      <th>Customer_ID</th>\n",
       "      <th>Delivery_person_ID</th>\n",
       "      <th>Delivery_person_Age</th>\n",
       "      <th>Delivery_person_Ratings</th>\n",
       "      <th>Restaurant_latitude</th>\n",
       "      <th>Restaurant_longitude</th>\n",
       "      <th>Delivery_location_latitude</th>\n",
       "      <th>Delivery_location_longitude</th>\n",
       "      <th>Order_Date</th>\n",
       "      <th>Time_Ordered</th>\n",
       "      <th>...</th>\n",
       "      <th>City</th>\n",
       "      <th>Time_taken(min)</th>\n",
       "      <th>day</th>\n",
       "      <th>month</th>\n",
       "      <th>year</th>\n",
       "      <th>Time_Ordered_hour</th>\n",
       "      <th>Time_Ordered_minute</th>\n",
       "      <th>Time_Order_picked_hour</th>\n",
       "      <th>Time_Order_picked_minute</th>\n",
       "      <th>prep_time</th>\n",
       "    </tr>\n",
       "  </thead>\n",
       "  <tbody>\n",
       "    <tr>\n",
       "      <th>0</th>\n",
       "      <td>0x4607</td>\n",
       "      <td>INDORES13DEL02</td>\n",
       "      <td>37.0</td>\n",
       "      <td>4.9</td>\n",
       "      <td>22.745049</td>\n",
       "      <td>75.892471</td>\n",
       "      <td>22.765049</td>\n",
       "      <td>75.912471</td>\n",
       "      <td>2022-03-19</td>\n",
       "      <td>11:30:00</td>\n",
       "      <td>...</td>\n",
       "      <td>Urban</td>\n",
       "      <td>24</td>\n",
       "      <td>19</td>\n",
       "      <td>3</td>\n",
       "      <td>2022</td>\n",
       "      <td>11.0</td>\n",
       "      <td>30.0</td>\n",
       "      <td>11.0</td>\n",
       "      <td>45.0</td>\n",
       "      <td>15.0</td>\n",
       "    </tr>\n",
       "    <tr>\n",
       "      <th>1</th>\n",
       "      <td>0xb379</td>\n",
       "      <td>BANGRES18DEL02</td>\n",
       "      <td>34.0</td>\n",
       "      <td>4.5</td>\n",
       "      <td>12.913041</td>\n",
       "      <td>77.683237</td>\n",
       "      <td>13.043041</td>\n",
       "      <td>77.813237</td>\n",
       "      <td>2022-03-25</td>\n",
       "      <td>19:45:00</td>\n",
       "      <td>...</td>\n",
       "      <td>Metropolitian</td>\n",
       "      <td>33</td>\n",
       "      <td>25</td>\n",
       "      <td>3</td>\n",
       "      <td>2022</td>\n",
       "      <td>19.0</td>\n",
       "      <td>45.0</td>\n",
       "      <td>19.0</td>\n",
       "      <td>50.0</td>\n",
       "      <td>5.0</td>\n",
       "    </tr>\n",
       "    <tr>\n",
       "      <th>2</th>\n",
       "      <td>0x5d6d</td>\n",
       "      <td>BANGRES19DEL01</td>\n",
       "      <td>23.0</td>\n",
       "      <td>4.4</td>\n",
       "      <td>12.914264</td>\n",
       "      <td>77.678400</td>\n",
       "      <td>12.924264</td>\n",
       "      <td>77.688400</td>\n",
       "      <td>2022-03-19</td>\n",
       "      <td>8:30:00</td>\n",
       "      <td>...</td>\n",
       "      <td>Urban</td>\n",
       "      <td>26</td>\n",
       "      <td>19</td>\n",
       "      <td>3</td>\n",
       "      <td>2022</td>\n",
       "      <td>8.0</td>\n",
       "      <td>30.0</td>\n",
       "      <td>8.0</td>\n",
       "      <td>45.0</td>\n",
       "      <td>15.0</td>\n",
       "    </tr>\n",
       "    <tr>\n",
       "      <th>3</th>\n",
       "      <td>0x7a6a</td>\n",
       "      <td>COIMBRES13DEL02</td>\n",
       "      <td>38.0</td>\n",
       "      <td>4.7</td>\n",
       "      <td>11.003669</td>\n",
       "      <td>76.976494</td>\n",
       "      <td>11.053669</td>\n",
       "      <td>77.026494</td>\n",
       "      <td>2022-05-04</td>\n",
       "      <td>18:00:00</td>\n",
       "      <td>...</td>\n",
       "      <td>Metropolitian</td>\n",
       "      <td>21</td>\n",
       "      <td>4</td>\n",
       "      <td>5</td>\n",
       "      <td>2022</td>\n",
       "      <td>18.0</td>\n",
       "      <td>0.0</td>\n",
       "      <td>18.0</td>\n",
       "      <td>10.0</td>\n",
       "      <td>10.0</td>\n",
       "    </tr>\n",
       "    <tr>\n",
       "      <th>4</th>\n",
       "      <td>0x70a2</td>\n",
       "      <td>CHENRES12DEL01</td>\n",
       "      <td>32.0</td>\n",
       "      <td>4.6</td>\n",
       "      <td>12.972793</td>\n",
       "      <td>80.249982</td>\n",
       "      <td>13.012793</td>\n",
       "      <td>80.289982</td>\n",
       "      <td>2022-03-26</td>\n",
       "      <td>13:30:00</td>\n",
       "      <td>...</td>\n",
       "      <td>Metropolitian</td>\n",
       "      <td>30</td>\n",
       "      <td>26</td>\n",
       "      <td>3</td>\n",
       "      <td>2022</td>\n",
       "      <td>13.0</td>\n",
       "      <td>30.0</td>\n",
       "      <td>13.0</td>\n",
       "      <td>45.0</td>\n",
       "      <td>15.0</td>\n",
       "    </tr>\n",
       "  </tbody>\n",
       "</table>\n",
       "<p>5 rows × 28 columns</p>\n",
       "</div>"
      ],
      "text/plain": [
       "  Customer_ID Delivery_person_ID  Delivery_person_Age  \\\n",
       "0     0x4607     INDORES13DEL02                  37.0   \n",
       "1     0xb379     BANGRES18DEL02                  34.0   \n",
       "2     0x5d6d     BANGRES19DEL01                  23.0   \n",
       "3     0x7a6a    COIMBRES13DEL02                  38.0   \n",
       "4     0x70a2     CHENRES12DEL01                  32.0   \n",
       "\n",
       "   Delivery_person_Ratings  Restaurant_latitude  Restaurant_longitude  \\\n",
       "0                      4.9            22.745049             75.892471   \n",
       "1                      4.5            12.913041             77.683237   \n",
       "2                      4.4            12.914264             77.678400   \n",
       "3                      4.7            11.003669             76.976494   \n",
       "4                      4.6            12.972793             80.249982   \n",
       "\n",
       "   Delivery_location_latitude  Delivery_location_longitude Order_Date  \\\n",
       "0                   22.765049                    75.912471 2022-03-19   \n",
       "1                   13.043041                    77.813237 2022-03-25   \n",
       "2                   12.924264                    77.688400 2022-03-19   \n",
       "3                   11.053669                    77.026494 2022-05-04   \n",
       "4                   13.012793                    80.289982 2022-03-26   \n",
       "\n",
       "  Time_Ordered  ...            City Time_taken(min) day  month  year  \\\n",
       "0     11:30:00  ...          Urban               24  19      3  2022   \n",
       "1     19:45:00  ...  Metropolitian               33  25      3  2022   \n",
       "2      8:30:00  ...          Urban               26  19      3  2022   \n",
       "3     18:00:00  ...  Metropolitian               21   4      5  2022   \n",
       "4     13:30:00  ...  Metropolitian               30  26      3  2022   \n",
       "\n",
       "  Time_Ordered_hour  Time_Ordered_minute Time_Order_picked_hour  \\\n",
       "0              11.0                 30.0                   11.0   \n",
       "1              19.0                 45.0                   19.0   \n",
       "2               8.0                 30.0                    8.0   \n",
       "3              18.0                  0.0                   18.0   \n",
       "4              13.0                 30.0                   13.0   \n",
       "\n",
       "  Time_Order_picked_minute  prep_time  \n",
       "0                     45.0       15.0  \n",
       "1                     50.0        5.0  \n",
       "2                     45.0       15.0  \n",
       "3                     10.0       10.0  \n",
       "4                     45.0       15.0  \n",
       "\n",
       "[5 rows x 28 columns]"
      ]
     },
     "execution_count": 40,
     "metadata": {},
     "output_type": "execute_result"
    }
   ],
   "source": [
    "df.head()"
   ]
  },
  {
   "cell_type": "markdown",
   "id": "22d9fa9b",
   "metadata": {},
   "source": [
    "# Weather conditions "
   ]
  },
  {
   "cell_type": "code",
   "execution_count": 41,
   "id": "562a0bed",
   "metadata": {},
   "outputs": [
    {
     "data": {
      "text/plain": [
       "Weather_conditions\n",
       "conditions Cloudy        6887\n",
       "conditions Fog           7080\n",
       "conditions Sandstorms    6742\n",
       "conditions Stormy        6868\n",
       "conditions Sunny         6617\n",
       "conditions Windy         6772\n",
       "Name: Weather_conditions, dtype: int64"
      ]
     },
     "execution_count": 41,
     "metadata": {},
     "output_type": "execute_result"
    }
   ],
   "source": [
    "df.groupby('Weather_conditions')['Weather_conditions'].aggregate('count')"
   ]
  },
  {
   "cell_type": "code",
   "execution_count": 42,
   "id": "b803cd6e",
   "metadata": {},
   "outputs": [],
   "source": [
    "df['Weather_conditions'] = df['Weather_conditions'].replace(['conditions NaN'],  df['Weather_conditions'].mode()[0])"
   ]
  },
  {
   "cell_type": "code",
   "execution_count": 43,
   "id": "e08b3c6e",
   "metadata": {},
   "outputs": [
    {
     "data": {
      "text/plain": [
       "Weather_conditions\n",
       "conditions Cloudy        6887\n",
       "conditions Fog           7080\n",
       "conditions Sandstorms    6742\n",
       "conditions Stormy        6868\n",
       "conditions Sunny         6617\n",
       "conditions Windy         6772\n",
       "Name: Weather_conditions, dtype: int64"
      ]
     },
     "execution_count": 43,
     "metadata": {},
     "output_type": "execute_result"
    }
   ],
   "source": [
    "df.groupby('Weather_conditions')['Weather_conditions'].aggregate('count')"
   ]
  },
  {
   "cell_type": "code",
   "execution_count": 44,
   "id": "88787d89",
   "metadata": {},
   "outputs": [],
   "source": [
    "df=df.replace({'Weather_conditions':{'conditions Cloudy': 'Cloudy', 'conditions Fog':'Fog','conditions Sandstorms'\\\n",
    "                                     :'Sandstorms','conditions Stormy':'Stormy', 'conditions Sunny':'Sunny','conditions Windy':'Windy'}})"
   ]
  },
  {
   "cell_type": "code",
   "execution_count": 45,
   "id": "c8ebf973",
   "metadata": {},
   "outputs": [
    {
     "data": {
      "text/plain": [
       "<AxesSubplot:xlabel='Weather_conditions', ylabel='Time_taken(min)'>"
      ]
     },
     "execution_count": 45,
     "metadata": {},
     "output_type": "execute_result"
    },
    {
     "data": {
      "image/png": "[encoded data removed]",
      "text/plain": [
       "<Figure size 432x288 with 1 Axes>"
      ]
     },
     "metadata": {
      "needs_background": "light"
     },
     "output_type": "display_data"
    }
   ],
   "source": [
    "sns.boxplot(data=df, x='Weather_conditions', y='Time_taken(min)', width=0.5)"
   ]
  },
  {
   "cell_type": "markdown",
   "id": "e55513ca",
   "metadata": {},
   "source": [
    "# \tRoad traffic density "
   ]
  },
  {
   "cell_type": "code",
   "execution_count": 46,
   "id": "c4ecde53",
   "metadata": {
    "scrolled": true
   },
   "outputs": [
    {
     "data": {
      "text/plain": [
       "Traffic_conditions\n",
       "High        4095\n",
       "Jam        12426\n",
       "Low        14263\n",
       "Medium     10182\n",
       "Name: Traffic_conditions, dtype: int64"
      ]
     },
     "execution_count": 46,
     "metadata": {},
     "output_type": "execute_result"
    }
   ],
   "source": [
    "df.groupby('Traffic_conditions')['Traffic_conditions'].aggregate('count')"
   ]
  },
  {
   "cell_type": "code",
   "execution_count": 47,
   "id": "22c9c26d",
   "metadata": {},
   "outputs": [
    {
     "data": {
      "text/plain": [
       "<function matplotlib.pyplot.show(close=None, block=None)>"
      ]
     },
     "execution_count": 47,
     "metadata": {},
     "output_type": "execute_result"
    },
    {
     "data": {
      "image/png": "[encoded data removed]",
      "text/plain": [
       "<Figure size 432x288 with 1 Axes>"
      ]
     },
     "metadata": {},
     "output_type": "display_data"
    }
   ],
   "source": [
    "plt.pie(x = df['Traffic_conditions'].value_counts() ,autopct='%1.2f%%' ,labels=df['Traffic_conditions'].value_counts().index)\n",
    "plt.title('Traffic_conditions')\n",
    "plt.show"
   ]
  },
  {
   "cell_type": "markdown",
   "id": "b4c2b7b7",
   "metadata": {},
   "source": [
    "### Taking care of NA values in Traffic_conditions columns"
   ]
  },
  {
   "cell_type": "code",
   "execution_count": 48,
   "id": "e4dd3ab2",
   "metadata": {},
   "outputs": [],
   "source": [
    "df['Traffic_conditions'] = df['Traffic_conditions'].fillna(df['Traffic_conditions'].mode()[0])"
   ]
  },
  {
   "cell_type": "code",
   "execution_count": 49,
   "id": "9088beaf",
   "metadata": {},
   "outputs": [
    {
     "data": {
      "text/plain": [
       "<AxesSubplot:xlabel='Traffic_conditions', ylabel='Time_taken(min)'>"
      ]
     },
     "execution_count": 49,
     "metadata": {},
     "output_type": "execute_result"
    },
    {
     "data": {
      "image/png": "[encoded data removed]",
      "text/plain": [
       "<Figure size 432x288 with 1 Axes>"
      ]
     },
     "metadata": {
      "needs_background": "light"
     },
     "output_type": "display_data"
    }
   ],
   "source": [
    "sns.boxplot(data=df, x='Traffic_conditions', y='Time_taken(min)', width=0.5)"
   ]
  },
  {
   "cell_type": "markdown",
   "id": "79589bf6",
   "metadata": {},
   "source": [
    "# Type of order"
   ]
  },
  {
   "cell_type": "code",
   "execution_count": 50,
   "id": "705af214",
   "metadata": {},
   "outputs": [
    {
     "data": {
      "text/plain": [
       "Type_of_order\n",
       "Buffet     10141\n",
       "Drinks     10183\n",
       "Meal       10265\n",
       "Snack      10377\n",
       "Name: Type_of_order, dtype: int64"
      ]
     },
     "execution_count": 50,
     "metadata": {},
     "output_type": "execute_result"
    }
   ],
   "source": [
    "df.groupby('Type_of_order')['Type_of_order'].aggregate('count')"
   ]
  },
  {
   "cell_type": "code",
   "execution_count": null,
   "id": "bbc74033",
   "metadata": {},
   "outputs": [],
   "source": []
  },
  {
   "cell_type": "code",
   "execution_count": 51,
   "id": "9853982b",
   "metadata": {},
   "outputs": [
    {
     "data": {
      "text/plain": [
       "<function matplotlib.pyplot.show(close=None, block=None)>"
      ]
     },
     "execution_count": 51,
     "metadata": {},
     "output_type": "execute_result"
    },
    {
     "data": {
      "image/png": "[encoded data removed]",
      "text/plain": [
       "<Figure size 432x288 with 1 Axes>"
      ]
     },
     "metadata": {},
     "output_type": "display_data"
    }
   ],
   "source": [
    "plt.pie(x = df['Type_of_order'].value_counts() ,autopct='%1.2f%%' ,labels=df['Type_of_order'].value_counts().index)\n",
    "plt.title('Type_of_order')\n",
    "plt.show"
   ]
  },
  {
   "cell_type": "markdown",
   "id": "f287cd6e",
   "metadata": {},
   "source": [
    "# Type of vehicle "
   ]
  },
  {
   "cell_type": "code",
   "execution_count": 52,
   "id": "1105be91",
   "metadata": {},
   "outputs": [
    {
     "data": {
      "text/plain": [
       "Type_of_vehicle\n",
       "electric_scooter      3343\n",
       "motorcycle           23923\n",
       "scooter              13700\n",
       "Name: Type_of_vehicle, dtype: int64"
      ]
     },
     "execution_count": 52,
     "metadata": {},
     "output_type": "execute_result"
    }
   ],
   "source": [
    "df.groupby('Type_of_vehicle')['Type_of_vehicle'].aggregate('count')"
   ]
  },
  {
   "cell_type": "code",
   "execution_count": 53,
   "id": "610053de",
   "metadata": {},
   "outputs": [
    {
     "data": {
      "text/plain": [
       "<function matplotlib.pyplot.show(close=None, block=None)>"
      ]
     },
     "execution_count": 53,
     "metadata": {},
     "output_type": "execute_result"
    },
    {
     "data": {
      "image/png": "[encoded data removed]",
      "text/plain": [
       "<Figure size 432x288 with 1 Axes>"
      ]
     },
     "metadata": {},
     "output_type": "display_data"
    }
   ],
   "source": [
    "plt.pie(x = df['Type_of_vehicle'].value_counts() ,autopct='%1.2f%%' ,labels=df['Type_of_vehicle'].value_counts().index)\n",
    "plt.title('Type_of_vehicle')\n",
    "plt.show"
   ]
  },
  {
   "cell_type": "code",
   "execution_count": 54,
   "id": "8defedf4",
   "metadata": {},
   "outputs": [
    {
     "data": {
      "text/plain": [
       "<AxesSubplot:xlabel='Type_of_vehicle', ylabel='Time_taken(min)'>"
      ]
     },
     "execution_count": 54,
     "metadata": {},
     "output_type": "execute_result"
    },
    {
     "data": {
      "image/png": "[encoded data removed]",
      "text/plain": [
       "<Figure size 432x288 with 1 Axes>"
      ]
     },
     "metadata": {
      "needs_background": "light"
     },
     "output_type": "display_data"
    }
   ],
   "source": [
    "sns.boxplot(data=df, x='Type_of_vehicle', y='Time_taken(min)', width=0.7)"
   ]
  },
  {
   "cell_type": "markdown",
   "id": "9e7b4ca1",
   "metadata": {},
   "source": [
    "# Vehicle condition"
   ]
  },
  {
   "cell_type": "code",
   "execution_count": 55,
   "id": "90450f27",
   "metadata": {},
   "outputs": [
    {
     "data": {
      "text/plain": [
       "Vehicle_condition\n",
       "0    13576\n",
       "1    13661\n",
       "2    13729\n",
       "Name: Vehicle_condition, dtype: int64"
      ]
     },
     "execution_count": 55,
     "metadata": {},
     "output_type": "execute_result"
    }
   ],
   "source": [
    "df.groupby('Vehicle_condition')['Vehicle_condition'].aggregate('count')"
   ]
  },
  {
   "cell_type": "code",
   "execution_count": 56,
   "id": "b6effd60",
   "metadata": {},
   "outputs": [
    {
     "data": {
      "text/plain": [
       "<AxesSubplot:xlabel='Vehicle_condition', ylabel='Time_taken(min)'>"
      ]
     },
     "execution_count": 56,
     "metadata": {},
     "output_type": "execute_result"
    },
    {
     "data": {
      "image/png": "[encoded data removed]",
      "text/plain": [
       "<Figure size 432x288 with 1 Axes>"
      ]
     },
     "metadata": {
      "needs_background": "light"
     },
     "output_type": "display_data"
    }
   ],
   "source": [
    "sns.boxplot(data=df, x='Vehicle_condition', y='Time_taken(min)', width=0.7)"
   ]
  },
  {
   "cell_type": "markdown",
   "id": "19ebf368",
   "metadata": {},
   "source": [
    "# Multiple deliveries"
   ]
  },
  {
   "cell_type": "code",
   "execution_count": 57,
   "id": "d70c0988",
   "metadata": {},
   "outputs": [
    {
     "data": {
      "text/plain": [
       "multiple_deliveries\n",
       "0.0    13011\n",
       "1.0    25274\n",
       "2.0     1547\n",
       "3.0      245\n",
       "Name: multiple_deliveries, dtype: int64"
      ]
     },
     "execution_count": 57,
     "metadata": {},
     "output_type": "execute_result"
    }
   ],
   "source": [
    "df.groupby('multiple_deliveries')['multiple_deliveries'].aggregate('count')"
   ]
  },
  {
   "cell_type": "code",
   "execution_count": 58,
   "id": "4b0c7543",
   "metadata": {},
   "outputs": [
    {
     "name": "stderr",
     "output_type": "stream",
     "text": [
      "C:\\Users\\ella.gorgin\\Anaconda3\\lib\\site-packages\\seaborn\\_decorators.py:36: FutureWarning: Pass the following variable as a keyword arg: x. From version 0.12, the only valid positional argument will be `data`, and passing other arguments without an explicit keyword will result in an error or misinterpretation.\n",
      "  warnings.warn(\n"
     ]
    },
    {
     "data": {
      "image/png": "[encoded data removed]",
      "text/plain": [
       "<Figure size 432x288 with 1 Axes>"
      ]
     },
     "metadata": {
      "needs_background": "light"
     },
     "output_type": "display_data"
    }
   ],
   "source": [
    "sns.boxplot(df['multiple_deliveries'])\n",
    "plt.show()"
   ]
  },
  {
   "cell_type": "code",
   "execution_count": 59,
   "id": "3b1c6860",
   "metadata": {},
   "outputs": [],
   "source": [
    "max_quantile= df['Delivery_person_Ratings'].quantile(0.95)\n",
    "df=df[df['Delivery_person_Ratings']<max_quantile]\n"
   ]
  },
  {
   "cell_type": "code",
   "execution_count": 60,
   "id": "f59ada3b",
   "metadata": {},
   "outputs": [],
   "source": [
    "# df['multiple_deliveries'] = df['multiple_deliveries'].replace(['nan'],  df['multiple_deliveries'].mode()[0])\n",
    "df['multiple_deliveries'] = df['multiple_deliveries'].fillna(df['multiple_deliveries'].mode()[0])"
   ]
  },
  {
   "cell_type": "markdown",
   "id": "03496331",
   "metadata": {},
   "source": [
    "# City "
   ]
  },
  {
   "cell_type": "code",
   "execution_count": 61,
   "id": "aa3b9889",
   "metadata": {},
   "outputs": [
    {
     "data": {
      "text/plain": [
       "City\n",
       "Metropolitian     27467\n",
       "Semi-Urban           80\n",
       "Urban              8452\n",
       "Name: City, dtype: int64"
      ]
     },
     "execution_count": 61,
     "metadata": {},
     "output_type": "execute_result"
    }
   ],
   "source": [
    "df.groupby('City')['City'].aggregate('count')"
   ]
  },
  {
   "cell_type": "code",
   "execution_count": 62,
   "id": "eec58c30",
   "metadata": {},
   "outputs": [
    {
     "data": {
      "text/plain": [
       "991"
      ]
     },
     "execution_count": 62,
     "metadata": {},
     "output_type": "execute_result"
    }
   ],
   "source": [
    "df['City'].isnull().sum()"
   ]
  },
  {
   "cell_type": "code",
   "execution_count": 63,
   "id": "c56f13dc",
   "metadata": {},
   "outputs": [
    {
     "data": {
      "text/html": [
       "<div>\n",
       "<style scoped>\n",
       "    .dataframe tbody tr th:only-of-type {\n",
       "        vertical-align: middle;\n",
       "    }\n",
       "\n",
       "    .dataframe tbody tr th {\n",
       "        vertical-align: top;\n",
       "    }\n",
       "\n",
       "    .dataframe thead th {\n",
       "        text-align: right;\n",
       "    }\n",
       "</style>\n",
       "<table border=\"1\" class=\"dataframe\">\n",
       "  <thead>\n",
       "    <tr style=\"text-align: right;\">\n",
       "      <th></th>\n",
       "      <th>Customer_ID</th>\n",
       "      <th>Delivery_person_ID</th>\n",
       "      <th>Delivery_person_Age</th>\n",
       "      <th>Delivery_person_Ratings</th>\n",
       "      <th>Restaurant_latitude</th>\n",
       "      <th>Restaurant_longitude</th>\n",
       "      <th>Delivery_location_latitude</th>\n",
       "      <th>Delivery_location_longitude</th>\n",
       "      <th>Order_Date</th>\n",
       "      <th>Time_Ordered</th>\n",
       "      <th>...</th>\n",
       "      <th>City</th>\n",
       "      <th>Time_taken(min)</th>\n",
       "      <th>day</th>\n",
       "      <th>month</th>\n",
       "      <th>year</th>\n",
       "      <th>Time_Ordered_hour</th>\n",
       "      <th>Time_Ordered_minute</th>\n",
       "      <th>Time_Order_picked_hour</th>\n",
       "      <th>Time_Order_picked_minute</th>\n",
       "      <th>prep_time</th>\n",
       "    </tr>\n",
       "  </thead>\n",
       "  <tbody>\n",
       "    <tr>\n",
       "      <th>0</th>\n",
       "      <td>0x4607</td>\n",
       "      <td>INDORES13DEL02</td>\n",
       "      <td>37.0</td>\n",
       "      <td>4.9</td>\n",
       "      <td>22.745049</td>\n",
       "      <td>75.892471</td>\n",
       "      <td>22.765049</td>\n",
       "      <td>75.912471</td>\n",
       "      <td>2022-03-19</td>\n",
       "      <td>11:30:00</td>\n",
       "      <td>...</td>\n",
       "      <td>Urban</td>\n",
       "      <td>24</td>\n",
       "      <td>19</td>\n",
       "      <td>3</td>\n",
       "      <td>2022</td>\n",
       "      <td>11.0</td>\n",
       "      <td>30.0</td>\n",
       "      <td>11.0</td>\n",
       "      <td>45.0</td>\n",
       "      <td>15.0</td>\n",
       "    </tr>\n",
       "    <tr>\n",
       "      <th>1</th>\n",
       "      <td>0xb379</td>\n",
       "      <td>BANGRES18DEL02</td>\n",
       "      <td>34.0</td>\n",
       "      <td>4.5</td>\n",
       "      <td>12.913041</td>\n",
       "      <td>77.683237</td>\n",
       "      <td>13.043041</td>\n",
       "      <td>77.813237</td>\n",
       "      <td>2022-03-25</td>\n",
       "      <td>19:45:00</td>\n",
       "      <td>...</td>\n",
       "      <td>Metropolitian</td>\n",
       "      <td>33</td>\n",
       "      <td>25</td>\n",
       "      <td>3</td>\n",
       "      <td>2022</td>\n",
       "      <td>19.0</td>\n",
       "      <td>45.0</td>\n",
       "      <td>19.0</td>\n",
       "      <td>50.0</td>\n",
       "      <td>5.0</td>\n",
       "    </tr>\n",
       "    <tr>\n",
       "      <th>2</th>\n",
       "      <td>0x5d6d</td>\n",
       "      <td>BANGRES19DEL01</td>\n",
       "      <td>23.0</td>\n",
       "      <td>4.4</td>\n",
       "      <td>12.914264</td>\n",
       "      <td>77.678400</td>\n",
       "      <td>12.924264</td>\n",
       "      <td>77.688400</td>\n",
       "      <td>2022-03-19</td>\n",
       "      <td>8:30:00</td>\n",
       "      <td>...</td>\n",
       "      <td>Urban</td>\n",
       "      <td>26</td>\n",
       "      <td>19</td>\n",
       "      <td>3</td>\n",
       "      <td>2022</td>\n",
       "      <td>8.0</td>\n",
       "      <td>30.0</td>\n",
       "      <td>8.0</td>\n",
       "      <td>45.0</td>\n",
       "      <td>15.0</td>\n",
       "    </tr>\n",
       "    <tr>\n",
       "      <th>3</th>\n",
       "      <td>0x7a6a</td>\n",
       "      <td>COIMBRES13DEL02</td>\n",
       "      <td>38.0</td>\n",
       "      <td>4.7</td>\n",
       "      <td>11.003669</td>\n",
       "      <td>76.976494</td>\n",
       "      <td>11.053669</td>\n",
       "      <td>77.026494</td>\n",
       "      <td>2022-05-04</td>\n",
       "      <td>18:00:00</td>\n",
       "      <td>...</td>\n",
       "      <td>Metropolitian</td>\n",
       "      <td>21</td>\n",
       "      <td>4</td>\n",
       "      <td>5</td>\n",
       "      <td>2022</td>\n",
       "      <td>18.0</td>\n",
       "      <td>0.0</td>\n",
       "      <td>18.0</td>\n",
       "      <td>10.0</td>\n",
       "      <td>10.0</td>\n",
       "    </tr>\n",
       "    <tr>\n",
       "      <th>4</th>\n",
       "      <td>0x70a2</td>\n",
       "      <td>CHENRES12DEL01</td>\n",
       "      <td>32.0</td>\n",
       "      <td>4.6</td>\n",
       "      <td>12.972793</td>\n",
       "      <td>80.249982</td>\n",
       "      <td>13.012793</td>\n",
       "      <td>80.289982</td>\n",
       "      <td>2022-03-26</td>\n",
       "      <td>13:30:00</td>\n",
       "      <td>...</td>\n",
       "      <td>Metropolitian</td>\n",
       "      <td>30</td>\n",
       "      <td>26</td>\n",
       "      <td>3</td>\n",
       "      <td>2022</td>\n",
       "      <td>13.0</td>\n",
       "      <td>30.0</td>\n",
       "      <td>13.0</td>\n",
       "      <td>45.0</td>\n",
       "      <td>15.0</td>\n",
       "    </tr>\n",
       "    <tr>\n",
       "      <th>...</th>\n",
       "      <td>...</td>\n",
       "      <td>...</td>\n",
       "      <td>...</td>\n",
       "      <td>...</td>\n",
       "      <td>...</td>\n",
       "      <td>...</td>\n",
       "      <td>...</td>\n",
       "      <td>...</td>\n",
       "      <td>...</td>\n",
       "      <td>...</td>\n",
       "      <td>...</td>\n",
       "      <td>...</td>\n",
       "      <td>...</td>\n",
       "      <td>...</td>\n",
       "      <td>...</td>\n",
       "      <td>...</td>\n",
       "      <td>...</td>\n",
       "      <td>...</td>\n",
       "      <td>...</td>\n",
       "      <td>...</td>\n",
       "      <td>...</td>\n",
       "    </tr>\n",
       "    <tr>\n",
       "      <th>45588</th>\n",
       "      <td>0x7c09</td>\n",
       "      <td>JAPRES04DEL01</td>\n",
       "      <td>30.0</td>\n",
       "      <td>4.8</td>\n",
       "      <td>26.902328</td>\n",
       "      <td>75.794257</td>\n",
       "      <td>26.912328</td>\n",
       "      <td>75.804257</td>\n",
       "      <td>2022-03-24</td>\n",
       "      <td>11:35:00</td>\n",
       "      <td>...</td>\n",
       "      <td>Metropolitian</td>\n",
       "      <td>32</td>\n",
       "      <td>24</td>\n",
       "      <td>3</td>\n",
       "      <td>2022</td>\n",
       "      <td>11.0</td>\n",
       "      <td>35.0</td>\n",
       "      <td>11.0</td>\n",
       "      <td>45.0</td>\n",
       "      <td>10.0</td>\n",
       "    </tr>\n",
       "    <tr>\n",
       "      <th>45589</th>\n",
       "      <td>0xd641</td>\n",
       "      <td>AGRRES16DEL01</td>\n",
       "      <td>21.0</td>\n",
       "      <td>4.6</td>\n",
       "      <td>0.000000</td>\n",
       "      <td>0.000000</td>\n",
       "      <td>0.070000</td>\n",
       "      <td>0.070000</td>\n",
       "      <td>2022-02-16</td>\n",
       "      <td>19:55:00</td>\n",
       "      <td>...</td>\n",
       "      <td>Metropolitian</td>\n",
       "      <td>36</td>\n",
       "      <td>16</td>\n",
       "      <td>2</td>\n",
       "      <td>2022</td>\n",
       "      <td>19.0</td>\n",
       "      <td>55.0</td>\n",
       "      <td>20.0</td>\n",
       "      <td>10.0</td>\n",
       "      <td>15.0</td>\n",
       "    </tr>\n",
       "    <tr>\n",
       "      <th>45590</th>\n",
       "      <td>0x4f8d</td>\n",
       "      <td>CHENRES08DEL03</td>\n",
       "      <td>30.0</td>\n",
       "      <td>4.9</td>\n",
       "      <td>13.022394</td>\n",
       "      <td>80.242439</td>\n",
       "      <td>13.052394</td>\n",
       "      <td>80.272439</td>\n",
       "      <td>2022-11-03</td>\n",
       "      <td>23:50:00</td>\n",
       "      <td>...</td>\n",
       "      <td>Metropolitian</td>\n",
       "      <td>16</td>\n",
       "      <td>3</td>\n",
       "      <td>11</td>\n",
       "      <td>2022</td>\n",
       "      <td>23.0</td>\n",
       "      <td>50.0</td>\n",
       "      <td>0.0</td>\n",
       "      <td>5.0</td>\n",
       "      <td>15.0</td>\n",
       "    </tr>\n",
       "    <tr>\n",
       "      <th>45591</th>\n",
       "      <td>0x5eee</td>\n",
       "      <td>COIMBRES11DEL01</td>\n",
       "      <td>20.0</td>\n",
       "      <td>4.7</td>\n",
       "      <td>11.001753</td>\n",
       "      <td>76.986241</td>\n",
       "      <td>11.041753</td>\n",
       "      <td>77.026241</td>\n",
       "      <td>2022-07-03</td>\n",
       "      <td>13:35:00</td>\n",
       "      <td>...</td>\n",
       "      <td>Metropolitian</td>\n",
       "      <td>26</td>\n",
       "      <td>3</td>\n",
       "      <td>7</td>\n",
       "      <td>2022</td>\n",
       "      <td>13.0</td>\n",
       "      <td>35.0</td>\n",
       "      <td>13.0</td>\n",
       "      <td>40.0</td>\n",
       "      <td>5.0</td>\n",
       "    </tr>\n",
       "    <tr>\n",
       "      <th>45592</th>\n",
       "      <td>0x5fb2</td>\n",
       "      <td>RANCHIRES09DEL02</td>\n",
       "      <td>23.0</td>\n",
       "      <td>4.9</td>\n",
       "      <td>23.351058</td>\n",
       "      <td>85.325731</td>\n",
       "      <td>23.431058</td>\n",
       "      <td>85.405731</td>\n",
       "      <td>2022-02-03</td>\n",
       "      <td>17:10:00</td>\n",
       "      <td>...</td>\n",
       "      <td>Metropolitian</td>\n",
       "      <td>36</td>\n",
       "      <td>3</td>\n",
       "      <td>2</td>\n",
       "      <td>2022</td>\n",
       "      <td>17.0</td>\n",
       "      <td>10.0</td>\n",
       "      <td>17.0</td>\n",
       "      <td>15.0</td>\n",
       "      <td>5.0</td>\n",
       "    </tr>\n",
       "  </tbody>\n",
       "</table>\n",
       "<p>35999 rows × 28 columns</p>\n",
       "</div>"
      ],
      "text/plain": [
       "      Customer_ID Delivery_person_ID  Delivery_person_Age  \\\n",
       "0         0x4607     INDORES13DEL02                  37.0   \n",
       "1         0xb379     BANGRES18DEL02                  34.0   \n",
       "2         0x5d6d     BANGRES19DEL01                  23.0   \n",
       "3         0x7a6a    COIMBRES13DEL02                  38.0   \n",
       "4         0x70a2     CHENRES12DEL01                  32.0   \n",
       "...           ...                ...                  ...   \n",
       "45588     0x7c09      JAPRES04DEL01                  30.0   \n",
       "45589     0xd641      AGRRES16DEL01                  21.0   \n",
       "45590     0x4f8d     CHENRES08DEL03                  30.0   \n",
       "45591     0x5eee    COIMBRES11DEL01                  20.0   \n",
       "45592     0x5fb2   RANCHIRES09DEL02                  23.0   \n",
       "\n",
       "       Delivery_person_Ratings  Restaurant_latitude  Restaurant_longitude  \\\n",
       "0                          4.9            22.745049             75.892471   \n",
       "1                          4.5            12.913041             77.683237   \n",
       "2                          4.4            12.914264             77.678400   \n",
       "3                          4.7            11.003669             76.976494   \n",
       "4                          4.6            12.972793             80.249982   \n",
       "...                        ...                  ...                   ...   \n",
       "45588                      4.8            26.902328             75.794257   \n",
       "45589                      4.6             0.000000              0.000000   \n",
       "45590                      4.9            13.022394             80.242439   \n",
       "45591                      4.7            11.001753             76.986241   \n",
       "45592                      4.9            23.351058             85.325731   \n",
       "\n",
       "       Delivery_location_latitude  Delivery_location_longitude Order_Date  \\\n",
       "0                       22.765049                    75.912471 2022-03-19   \n",
       "1                       13.043041                    77.813237 2022-03-25   \n",
       "2                       12.924264                    77.688400 2022-03-19   \n",
       "3                       11.053669                    77.026494 2022-05-04   \n",
       "4                       13.012793                    80.289982 2022-03-26   \n",
       "...                           ...                          ...        ...   \n",
       "45588                   26.912328                    75.804257 2022-03-24   \n",
       "45589                    0.070000                     0.070000 2022-02-16   \n",
       "45590                   13.052394                    80.272439 2022-11-03   \n",
       "45591                   11.041753                    77.026241 2022-07-03   \n",
       "45592                   23.431058                    85.405731 2022-02-03   \n",
       "\n",
       "      Time_Ordered  ...            City Time_taken(min) day  month  year  \\\n",
       "0         11:30:00  ...          Urban               24  19      3  2022   \n",
       "1         19:45:00  ...  Metropolitian               33  25      3  2022   \n",
       "2          8:30:00  ...          Urban               26  19      3  2022   \n",
       "3         18:00:00  ...  Metropolitian               21   4      5  2022   \n",
       "4         13:30:00  ...  Metropolitian               30  26      3  2022   \n",
       "...            ...  ...             ...             ...  ..    ...   ...   \n",
       "45588     11:35:00  ...  Metropolitian               32  24      3  2022   \n",
       "45589     19:55:00  ...  Metropolitian               36  16      2  2022   \n",
       "45590     23:50:00  ...  Metropolitian               16   3     11  2022   \n",
       "45591     13:35:00  ...  Metropolitian               26   3      7  2022   \n",
       "45592     17:10:00  ...  Metropolitian               36   3      2  2022   \n",
       "\n",
       "      Time_Ordered_hour  Time_Ordered_minute Time_Order_picked_hour  \\\n",
       "0                  11.0                 30.0                   11.0   \n",
       "1                  19.0                 45.0                   19.0   \n",
       "2                   8.0                 30.0                    8.0   \n",
       "3                  18.0                  0.0                   18.0   \n",
       "4                  13.0                 30.0                   13.0   \n",
       "...                 ...                  ...                    ...   \n",
       "45588              11.0                 35.0                   11.0   \n",
       "45589              19.0                 55.0                   20.0   \n",
       "45590              23.0                 50.0                    0.0   \n",
       "45591              13.0                 35.0                   13.0   \n",
       "45592              17.0                 10.0                   17.0   \n",
       "\n",
       "      Time_Order_picked_minute  prep_time  \n",
       "0                         45.0       15.0  \n",
       "1                         50.0        5.0  \n",
       "2                         45.0       15.0  \n",
       "3                         10.0       10.0  \n",
       "4                         45.0       15.0  \n",
       "...                        ...        ...  \n",
       "45588                     45.0       10.0  \n",
       "45589                     10.0       15.0  \n",
       "45590                      5.0       15.0  \n",
       "45591                     40.0        5.0  \n",
       "45592                     15.0        5.0  \n",
       "\n",
       "[35999 rows x 28 columns]"
      ]
     },
     "execution_count": 63,
     "metadata": {},
     "output_type": "execute_result"
    }
   ],
   "source": [
    "df.dropna(subset = ['City'])"
   ]
  },
  {
   "cell_type": "code",
   "execution_count": 64,
   "id": "8a165696",
   "metadata": {},
   "outputs": [
    {
     "data": {
      "text/plain": [
       "<AxesSubplot:xlabel='City', ylabel='Time_taken(min)'>"
      ]
     },
     "execution_count": 64,
     "metadata": {},
     "output_type": "execute_result"
    },
    {
     "data": {
      "image/png": "[encoded data removed]",
      "text/plain": [
       "<Figure size 432x288 with 1 Axes>"
      ]
     },
     "metadata": {
      "needs_background": "light"
     },
     "output_type": "display_data"
    }
   ],
   "source": [
    "sns.boxplot(data=df, x='City', y='Time_taken(min)', width=0.7)"
   ]
  },
  {
   "cell_type": "markdown",
   "id": "3ebc036c",
   "metadata": {},
   "source": [
    "# Festival "
   ]
  },
  {
   "cell_type": "code",
   "execution_count": 65,
   "id": "41224353",
   "metadata": {},
   "outputs": [
    {
     "data": {
      "text/plain": [
       "Festival\n",
       "No      36224\n",
       "Yes       572\n",
       "Name: Festival, dtype: int64"
      ]
     },
     "execution_count": 65,
     "metadata": {},
     "output_type": "execute_result"
    }
   ],
   "source": [
    "df.groupby('Festival')['Festival'].aggregate('count')"
   ]
  },
  {
   "cell_type": "code",
   "execution_count": 66,
   "id": "bca5bc75",
   "metadata": {},
   "outputs": [
    {
     "data": {
      "text/html": [
       "<div>\n",
       "<style scoped>\n",
       "    .dataframe tbody tr th:only-of-type {\n",
       "        vertical-align: middle;\n",
       "    }\n",
       "\n",
       "    .dataframe tbody tr th {\n",
       "        vertical-align: top;\n",
       "    }\n",
       "\n",
       "    .dataframe thead th {\n",
       "        text-align: right;\n",
       "    }\n",
       "</style>\n",
       "<table border=\"1\" class=\"dataframe\">\n",
       "  <thead>\n",
       "    <tr style=\"text-align: right;\">\n",
       "      <th></th>\n",
       "      <th>Customer_ID</th>\n",
       "      <th>Delivery_person_ID</th>\n",
       "      <th>Delivery_person_Age</th>\n",
       "      <th>Delivery_person_Ratings</th>\n",
       "      <th>Restaurant_latitude</th>\n",
       "      <th>Restaurant_longitude</th>\n",
       "      <th>Delivery_location_latitude</th>\n",
       "      <th>Delivery_location_longitude</th>\n",
       "      <th>Order_Date</th>\n",
       "      <th>Time_Ordered</th>\n",
       "      <th>...</th>\n",
       "      <th>City</th>\n",
       "      <th>Time_taken(min)</th>\n",
       "      <th>day</th>\n",
       "      <th>month</th>\n",
       "      <th>year</th>\n",
       "      <th>Time_Ordered_hour</th>\n",
       "      <th>Time_Ordered_minute</th>\n",
       "      <th>Time_Order_picked_hour</th>\n",
       "      <th>Time_Order_picked_minute</th>\n",
       "      <th>prep_time</th>\n",
       "    </tr>\n",
       "  </thead>\n",
       "  <tbody>\n",
       "    <tr>\n",
       "      <th>0</th>\n",
       "      <td>0x4607</td>\n",
       "      <td>INDORES13DEL02</td>\n",
       "      <td>37.0</td>\n",
       "      <td>4.9</td>\n",
       "      <td>22.745049</td>\n",
       "      <td>75.892471</td>\n",
       "      <td>22.765049</td>\n",
       "      <td>75.912471</td>\n",
       "      <td>2022-03-19</td>\n",
       "      <td>11:30:00</td>\n",
       "      <td>...</td>\n",
       "      <td>Urban</td>\n",
       "      <td>24</td>\n",
       "      <td>19</td>\n",
       "      <td>3</td>\n",
       "      <td>2022</td>\n",
       "      <td>11.0</td>\n",
       "      <td>30.0</td>\n",
       "      <td>11.0</td>\n",
       "      <td>45.0</td>\n",
       "      <td>15.0</td>\n",
       "    </tr>\n",
       "    <tr>\n",
       "      <th>1</th>\n",
       "      <td>0xb379</td>\n",
       "      <td>BANGRES18DEL02</td>\n",
       "      <td>34.0</td>\n",
       "      <td>4.5</td>\n",
       "      <td>12.913041</td>\n",
       "      <td>77.683237</td>\n",
       "      <td>13.043041</td>\n",
       "      <td>77.813237</td>\n",
       "      <td>2022-03-25</td>\n",
       "      <td>19:45:00</td>\n",
       "      <td>...</td>\n",
       "      <td>Metropolitian</td>\n",
       "      <td>33</td>\n",
       "      <td>25</td>\n",
       "      <td>3</td>\n",
       "      <td>2022</td>\n",
       "      <td>19.0</td>\n",
       "      <td>45.0</td>\n",
       "      <td>19.0</td>\n",
       "      <td>50.0</td>\n",
       "      <td>5.0</td>\n",
       "    </tr>\n",
       "    <tr>\n",
       "      <th>2</th>\n",
       "      <td>0x5d6d</td>\n",
       "      <td>BANGRES19DEL01</td>\n",
       "      <td>23.0</td>\n",
       "      <td>4.4</td>\n",
       "      <td>12.914264</td>\n",
       "      <td>77.678400</td>\n",
       "      <td>12.924264</td>\n",
       "      <td>77.688400</td>\n",
       "      <td>2022-03-19</td>\n",
       "      <td>8:30:00</td>\n",
       "      <td>...</td>\n",
       "      <td>Urban</td>\n",
       "      <td>26</td>\n",
       "      <td>19</td>\n",
       "      <td>3</td>\n",
       "      <td>2022</td>\n",
       "      <td>8.0</td>\n",
       "      <td>30.0</td>\n",
       "      <td>8.0</td>\n",
       "      <td>45.0</td>\n",
       "      <td>15.0</td>\n",
       "    </tr>\n",
       "    <tr>\n",
       "      <th>3</th>\n",
       "      <td>0x7a6a</td>\n",
       "      <td>COIMBRES13DEL02</td>\n",
       "      <td>38.0</td>\n",
       "      <td>4.7</td>\n",
       "      <td>11.003669</td>\n",
       "      <td>76.976494</td>\n",
       "      <td>11.053669</td>\n",
       "      <td>77.026494</td>\n",
       "      <td>2022-05-04</td>\n",
       "      <td>18:00:00</td>\n",
       "      <td>...</td>\n",
       "      <td>Metropolitian</td>\n",
       "      <td>21</td>\n",
       "      <td>4</td>\n",
       "      <td>5</td>\n",
       "      <td>2022</td>\n",
       "      <td>18.0</td>\n",
       "      <td>0.0</td>\n",
       "      <td>18.0</td>\n",
       "      <td>10.0</td>\n",
       "      <td>10.0</td>\n",
       "    </tr>\n",
       "    <tr>\n",
       "      <th>4</th>\n",
       "      <td>0x70a2</td>\n",
       "      <td>CHENRES12DEL01</td>\n",
       "      <td>32.0</td>\n",
       "      <td>4.6</td>\n",
       "      <td>12.972793</td>\n",
       "      <td>80.249982</td>\n",
       "      <td>13.012793</td>\n",
       "      <td>80.289982</td>\n",
       "      <td>2022-03-26</td>\n",
       "      <td>13:30:00</td>\n",
       "      <td>...</td>\n",
       "      <td>Metropolitian</td>\n",
       "      <td>30</td>\n",
       "      <td>26</td>\n",
       "      <td>3</td>\n",
       "      <td>2022</td>\n",
       "      <td>13.0</td>\n",
       "      <td>30.0</td>\n",
       "      <td>13.0</td>\n",
       "      <td>45.0</td>\n",
       "      <td>15.0</td>\n",
       "    </tr>\n",
       "    <tr>\n",
       "      <th>...</th>\n",
       "      <td>...</td>\n",
       "      <td>...</td>\n",
       "      <td>...</td>\n",
       "      <td>...</td>\n",
       "      <td>...</td>\n",
       "      <td>...</td>\n",
       "      <td>...</td>\n",
       "      <td>...</td>\n",
       "      <td>...</td>\n",
       "      <td>...</td>\n",
       "      <td>...</td>\n",
       "      <td>...</td>\n",
       "      <td>...</td>\n",
       "      <td>...</td>\n",
       "      <td>...</td>\n",
       "      <td>...</td>\n",
       "      <td>...</td>\n",
       "      <td>...</td>\n",
       "      <td>...</td>\n",
       "      <td>...</td>\n",
       "      <td>...</td>\n",
       "    </tr>\n",
       "    <tr>\n",
       "      <th>45588</th>\n",
       "      <td>0x7c09</td>\n",
       "      <td>JAPRES04DEL01</td>\n",
       "      <td>30.0</td>\n",
       "      <td>4.8</td>\n",
       "      <td>26.902328</td>\n",
       "      <td>75.794257</td>\n",
       "      <td>26.912328</td>\n",
       "      <td>75.804257</td>\n",
       "      <td>2022-03-24</td>\n",
       "      <td>11:35:00</td>\n",
       "      <td>...</td>\n",
       "      <td>Metropolitian</td>\n",
       "      <td>32</td>\n",
       "      <td>24</td>\n",
       "      <td>3</td>\n",
       "      <td>2022</td>\n",
       "      <td>11.0</td>\n",
       "      <td>35.0</td>\n",
       "      <td>11.0</td>\n",
       "      <td>45.0</td>\n",
       "      <td>10.0</td>\n",
       "    </tr>\n",
       "    <tr>\n",
       "      <th>45589</th>\n",
       "      <td>0xd641</td>\n",
       "      <td>AGRRES16DEL01</td>\n",
       "      <td>21.0</td>\n",
       "      <td>4.6</td>\n",
       "      <td>0.000000</td>\n",
       "      <td>0.000000</td>\n",
       "      <td>0.070000</td>\n",
       "      <td>0.070000</td>\n",
       "      <td>2022-02-16</td>\n",
       "      <td>19:55:00</td>\n",
       "      <td>...</td>\n",
       "      <td>Metropolitian</td>\n",
       "      <td>36</td>\n",
       "      <td>16</td>\n",
       "      <td>2</td>\n",
       "      <td>2022</td>\n",
       "      <td>19.0</td>\n",
       "      <td>55.0</td>\n",
       "      <td>20.0</td>\n",
       "      <td>10.0</td>\n",
       "      <td>15.0</td>\n",
       "    </tr>\n",
       "    <tr>\n",
       "      <th>45590</th>\n",
       "      <td>0x4f8d</td>\n",
       "      <td>CHENRES08DEL03</td>\n",
       "      <td>30.0</td>\n",
       "      <td>4.9</td>\n",
       "      <td>13.022394</td>\n",
       "      <td>80.242439</td>\n",
       "      <td>13.052394</td>\n",
       "      <td>80.272439</td>\n",
       "      <td>2022-11-03</td>\n",
       "      <td>23:50:00</td>\n",
       "      <td>...</td>\n",
       "      <td>Metropolitian</td>\n",
       "      <td>16</td>\n",
       "      <td>3</td>\n",
       "      <td>11</td>\n",
       "      <td>2022</td>\n",
       "      <td>23.0</td>\n",
       "      <td>50.0</td>\n",
       "      <td>0.0</td>\n",
       "      <td>5.0</td>\n",
       "      <td>15.0</td>\n",
       "    </tr>\n",
       "    <tr>\n",
       "      <th>45591</th>\n",
       "      <td>0x5eee</td>\n",
       "      <td>COIMBRES11DEL01</td>\n",
       "      <td>20.0</td>\n",
       "      <td>4.7</td>\n",
       "      <td>11.001753</td>\n",
       "      <td>76.986241</td>\n",
       "      <td>11.041753</td>\n",
       "      <td>77.026241</td>\n",
       "      <td>2022-07-03</td>\n",
       "      <td>13:35:00</td>\n",
       "      <td>...</td>\n",
       "      <td>Metropolitian</td>\n",
       "      <td>26</td>\n",
       "      <td>3</td>\n",
       "      <td>7</td>\n",
       "      <td>2022</td>\n",
       "      <td>13.0</td>\n",
       "      <td>35.0</td>\n",
       "      <td>13.0</td>\n",
       "      <td>40.0</td>\n",
       "      <td>5.0</td>\n",
       "    </tr>\n",
       "    <tr>\n",
       "      <th>45592</th>\n",
       "      <td>0x5fb2</td>\n",
       "      <td>RANCHIRES09DEL02</td>\n",
       "      <td>23.0</td>\n",
       "      <td>4.9</td>\n",
       "      <td>23.351058</td>\n",
       "      <td>85.325731</td>\n",
       "      <td>23.431058</td>\n",
       "      <td>85.405731</td>\n",
       "      <td>2022-02-03</td>\n",
       "      <td>17:10:00</td>\n",
       "      <td>...</td>\n",
       "      <td>Metropolitian</td>\n",
       "      <td>36</td>\n",
       "      <td>3</td>\n",
       "      <td>2</td>\n",
       "      <td>2022</td>\n",
       "      <td>17.0</td>\n",
       "      <td>10.0</td>\n",
       "      <td>17.0</td>\n",
       "      <td>15.0</td>\n",
       "      <td>5.0</td>\n",
       "    </tr>\n",
       "  </tbody>\n",
       "</table>\n",
       "<p>36796 rows × 28 columns</p>\n",
       "</div>"
      ],
      "text/plain": [
       "      Customer_ID Delivery_person_ID  Delivery_person_Age  \\\n",
       "0         0x4607     INDORES13DEL02                  37.0   \n",
       "1         0xb379     BANGRES18DEL02                  34.0   \n",
       "2         0x5d6d     BANGRES19DEL01                  23.0   \n",
       "3         0x7a6a    COIMBRES13DEL02                  38.0   \n",
       "4         0x70a2     CHENRES12DEL01                  32.0   \n",
       "...           ...                ...                  ...   \n",
       "45588     0x7c09      JAPRES04DEL01                  30.0   \n",
       "45589     0xd641      AGRRES16DEL01                  21.0   \n",
       "45590     0x4f8d     CHENRES08DEL03                  30.0   \n",
       "45591     0x5eee    COIMBRES11DEL01                  20.0   \n",
       "45592     0x5fb2   RANCHIRES09DEL02                  23.0   \n",
       "\n",
       "       Delivery_person_Ratings  Restaurant_latitude  Restaurant_longitude  \\\n",
       "0                          4.9            22.745049             75.892471   \n",
       "1                          4.5            12.913041             77.683237   \n",
       "2                          4.4            12.914264             77.678400   \n",
       "3                          4.7            11.003669             76.976494   \n",
       "4                          4.6            12.972793             80.249982   \n",
       "...                        ...                  ...                   ...   \n",
       "45588                      4.8            26.902328             75.794257   \n",
       "45589                      4.6             0.000000              0.000000   \n",
       "45590                      4.9            13.022394             80.242439   \n",
       "45591                      4.7            11.001753             76.986241   \n",
       "45592                      4.9            23.351058             85.325731   \n",
       "\n",
       "       Delivery_location_latitude  Delivery_location_longitude Order_Date  \\\n",
       "0                       22.765049                    75.912471 2022-03-19   \n",
       "1                       13.043041                    77.813237 2022-03-25   \n",
       "2                       12.924264                    77.688400 2022-03-19   \n",
       "3                       11.053669                    77.026494 2022-05-04   \n",
       "4                       13.012793                    80.289982 2022-03-26   \n",
       "...                           ...                          ...        ...   \n",
       "45588                   26.912328                    75.804257 2022-03-24   \n",
       "45589                    0.070000                     0.070000 2022-02-16   \n",
       "45590                   13.052394                    80.272439 2022-11-03   \n",
       "45591                   11.041753                    77.026241 2022-07-03   \n",
       "45592                   23.431058                    85.405731 2022-02-03   \n",
       "\n",
       "      Time_Ordered  ...            City Time_taken(min) day  month  year  \\\n",
       "0         11:30:00  ...          Urban               24  19      3  2022   \n",
       "1         19:45:00  ...  Metropolitian               33  25      3  2022   \n",
       "2          8:30:00  ...          Urban               26  19      3  2022   \n",
       "3         18:00:00  ...  Metropolitian               21   4      5  2022   \n",
       "4         13:30:00  ...  Metropolitian               30  26      3  2022   \n",
       "...            ...  ...             ...             ...  ..    ...   ...   \n",
       "45588     11:35:00  ...  Metropolitian               32  24      3  2022   \n",
       "45589     19:55:00  ...  Metropolitian               36  16      2  2022   \n",
       "45590     23:50:00  ...  Metropolitian               16   3     11  2022   \n",
       "45591     13:35:00  ...  Metropolitian               26   3      7  2022   \n",
       "45592     17:10:00  ...  Metropolitian               36   3      2  2022   \n",
       "\n",
       "      Time_Ordered_hour  Time_Ordered_minute Time_Order_picked_hour  \\\n",
       "0                  11.0                 30.0                   11.0   \n",
       "1                  19.0                 45.0                   19.0   \n",
       "2                   8.0                 30.0                    8.0   \n",
       "3                  18.0                  0.0                   18.0   \n",
       "4                  13.0                 30.0                   13.0   \n",
       "...                 ...                  ...                    ...   \n",
       "45588              11.0                 35.0                   11.0   \n",
       "45589              19.0                 55.0                   20.0   \n",
       "45590              23.0                 50.0                    0.0   \n",
       "45591              13.0                 35.0                   13.0   \n",
       "45592              17.0                 10.0                   17.0   \n",
       "\n",
       "      Time_Order_picked_minute  prep_time  \n",
       "0                         45.0       15.0  \n",
       "1                         50.0        5.0  \n",
       "2                         45.0       15.0  \n",
       "3                         10.0       10.0  \n",
       "4                         45.0       15.0  \n",
       "...                        ...        ...  \n",
       "45588                     45.0       10.0  \n",
       "45589                     10.0       15.0  \n",
       "45590                      5.0       15.0  \n",
       "45591                     40.0        5.0  \n",
       "45592                     15.0        5.0  \n",
       "\n",
       "[36796 rows x 28 columns]"
      ]
     },
     "execution_count": 66,
     "metadata": {},
     "output_type": "execute_result"
    }
   ],
   "source": [
    "df.dropna(subset = ['Festival'])"
   ]
  },
  {
   "cell_type": "code",
   "execution_count": 67,
   "id": "35742fd6",
   "metadata": {
    "scrolled": true
   },
   "outputs": [
    {
     "data": {
      "text/plain": [
       "<AxesSubplot:xlabel='Festival', ylabel='Time_taken(min)'>"
      ]
     },
     "execution_count": 67,
     "metadata": {},
     "output_type": "execute_result"
    },
    {
     "data": {
      "image/png": "[encoded data removed]",
      "text/plain": [
       "<Figure size 432x288 with 1 Axes>"
      ]
     },
     "metadata": {
      "needs_background": "light"
     },
     "output_type": "display_data"
    }
   ],
   "source": [
    "sns.boxplot(data=df, x='Festival', y='Time_taken(min)', width=0.7)"
   ]
  },
  {
   "cell_type": "code",
   "execution_count": 68,
   "id": "96c39ea9",
   "metadata": {},
   "outputs": [
    {
     "data": {
      "text/plain": [
       "(36990, 28)"
      ]
     },
     "execution_count": 68,
     "metadata": {},
     "output_type": "execute_result"
    }
   ],
   "source": [
    "df.shape"
   ]
  },
  {
   "cell_type": "code",
   "execution_count": 69,
   "id": "11e3991c",
   "metadata": {},
   "outputs": [],
   "source": [
    "#df['Time_Ordered']= df['Time_Ordered'].astype('float64')\n",
    "#df['Time_Order_picked']= df['Time_Order_picked'].astype('float64')\n",
    "df['multiple_deliveries']= df['multiple_deliveries'].astype('float64')\n",
    "df['Time_taken(min)']= df['Time_taken(min)'].astype('float64')"
   ]
  },
  {
   "cell_type": "markdown",
   "id": "bfc59e1e",
   "metadata": {},
   "source": [
    "# Creating a new feature, distance calculation"
   ]
  },
  {
   "cell_type": "code",
   "execution_count": 70,
   "id": "d07e9580",
   "metadata": {},
   "outputs": [],
   "source": [
    "from math import sin, cos, sqrt, atan2, radians\n",
    "\n",
    "# approximate radius of earth in mile\n",
    "R = 3950 \n",
    "def distance_calculator(lat1,lon1,lat2,lon2):\n",
    "    lat1 = radians(lat1)\n",
    "    lon1 = radians(lon1)\n",
    "    lat2 = radians(lat2)\n",
    "    lon2 = radians(lon2)\n",
    "    dlon = lon2 - lon1\n",
    "    dlat = lat2 - lat1\n",
    "    a = sin(dlat / 2)**2 + cos(lat1) * cos(lat2) * sin(dlon / 2)**2\n",
    "    c = 2 * atan2(sqrt(a), sqrt(1 - a))\n",
    "    distance = R * c\n",
    "    return(distance)"
   ]
  },
  {
   "cell_type": "code",
   "execution_count": 71,
   "id": "ed8d9464",
   "metadata": {},
   "outputs": [],
   "source": [
    "dist=[]\n",
    "for i in range(len(df)):\n",
    "    dist.append(distance_calculator(df[\"Restaurant_latitude\"].iloc[i],df[\"Restaurant_longitude\"].iloc[i],df[\"Delivery_location_latitude\"].iloc[i],df[\"Delivery_location_longitude\"].iloc[i]))"
   ]
  },
  {
   "cell_type": "code",
   "execution_count": 72,
   "id": "ffeba926",
   "metadata": {},
   "outputs": [
    {
     "data": {
      "text/plain": [
       "0     1.875583\n",
       "1    12.513725\n",
       "2     0.962705\n",
       "3     4.830024\n",
       "4     3.850266\n",
       "Name: Distance, dtype: float64"
      ]
     },
     "execution_count": 72,
     "metadata": {},
     "output_type": "execute_result"
    }
   ],
   "source": [
    "df['Distance']=dist\n",
    "df['Distance'].head()"
   ]
  },
  {
   "cell_type": "code",
   "execution_count": 73,
   "id": "929f1634",
   "metadata": {},
   "outputs": [],
   "source": [
    "df=df.drop([\"Restaurant_latitude\",\"Restaurant_longitude\",\"Delivery_location_latitude\",\"Delivery_location_longitude\"], axis='columns')\n"
   ]
  },
  {
   "cell_type": "code",
   "execution_count": 74,
   "id": "43d6ee31",
   "metadata": {},
   "outputs": [
    {
     "name": "stderr",
     "output_type": "stream",
     "text": [
      "C:\\Users\\ella.gorgin\\Anaconda3\\lib\\site-packages\\seaborn\\_decorators.py:36: FutureWarning: Pass the following variable as a keyword arg: x. From version 0.12, the only valid positional argument will be `data`, and passing other arguments without an explicit keyword will result in an error or misinterpretation.\n",
      "  warnings.warn(\n"
     ]
    },
    {
     "data": {
      "image/png": "[encoded data removed]",
      "text/plain": [
       "<Figure size 432x288 with 1 Axes>"
      ]
     },
     "metadata": {
      "needs_background": "light"
     },
     "output_type": "display_data"
    }
   ],
   "source": [
    "sns.boxplot(df['Distance'])\n",
    "plt.show()"
   ]
  },
  {
   "cell_type": "code",
   "execution_count": 75,
   "id": "ea154769",
   "metadata": {},
   "outputs": [
    {
     "data": {
      "text/plain": [
       "0.9083371920675309"
      ]
     },
     "execution_count": 75,
     "metadata": {},
     "output_type": "execute_result"
    }
   ],
   "source": [
    "df['Distance'].min()"
   ]
  },
  {
   "cell_type": "code",
   "execution_count": 76,
   "id": "960494a5",
   "metadata": {},
   "outputs": [
    {
     "data": {
      "text/plain": [
       "4267.536005798192"
      ]
     },
     "execution_count": 76,
     "metadata": {},
     "output_type": "execute_result"
    }
   ],
   "source": [
    "df['Distance'].max()"
   ]
  },
  {
   "cell_type": "code",
   "execution_count": 77,
   "id": "81aa487b",
   "metadata": {},
   "outputs": [],
   "source": [
    "max_quantile= df['Distance'].quantile(0.99)\n",
    "df=df[df['Distance']<max_quantile]"
   ]
  },
  {
   "cell_type": "code",
   "execution_count": 78,
   "id": "cd5ad850",
   "metadata": {},
   "outputs": [
    {
     "data": {
      "text/plain": [
       "12.92791340418967"
      ]
     },
     "execution_count": 78,
     "metadata": {},
     "output_type": "execute_result"
    }
   ],
   "source": [
    "df['Distance'].max()"
   ]
  },
  {
   "cell_type": "code",
   "execution_count": 79,
   "id": "bfbdb8f8",
   "metadata": {},
   "outputs": [
    {
     "name": "stderr",
     "output_type": "stream",
     "text": [
      "C:\\Users\\ella.gorgin\\Anaconda3\\lib\\site-packages\\seaborn\\_decorators.py:36: FutureWarning: Pass the following variable as a keyword arg: x. From version 0.12, the only valid positional argument will be `data`, and passing other arguments without an explicit keyword will result in an error or misinterpretation.\n",
      "  warnings.warn(\n"
     ]
    },
    {
     "data": {
      "image/png": "[encoded data removed]",
      "text/plain": [
       "<Figure size 432x288 with 1 Axes>"
      ]
     },
     "metadata": {
      "needs_background": "light"
     },
     "output_type": "display_data"
    }
   ],
   "source": [
    "sns.boxplot(df['Distance'])\n",
    "plt.show()"
   ]
  },
  {
   "cell_type": "code",
   "execution_count": 80,
   "id": "b53eeb0a",
   "metadata": {},
   "outputs": [],
   "source": [
    "df.reset_index(inplace=True, drop=True)"
   ]
  },
  {
   "cell_type": "markdown",
   "id": "024c119a",
   "metadata": {},
   "source": [
    "# Label Encoding"
   ]
  },
  {
   "cell_type": "code",
   "execution_count": 81,
   "id": "f15b097e",
   "metadata": {},
   "outputs": [],
   "source": [
    "from sklearn.preprocessing import LabelEncoder\n",
    "labelencoder=LabelEncoder()"
   ]
  },
  {
   "cell_type": "code",
   "execution_count": 82,
   "id": "28253db7",
   "metadata": {},
   "outputs": [],
   "source": [
    "df[\"Weather_conditions\"]=labelencoder.fit_transform(df[\"Weather_conditions\"])\n",
    "df[\"Delivery_person_ID\"]=labelencoder.fit_transform(df[\"Delivery_person_ID\"])\n",
    "df[\"Customer_ID\"]=labelencoder.fit_transform(df[\"Customer_ID\"])\n",
    "df[\"Traffic_conditions\"]=labelencoder.fit_transform(df['Traffic_conditions'])\n",
    "df[\"Type_of_order\"]=labelencoder.fit_transform(df[\"Type_of_order\"])\n",
    "df[\"Type_of_vehicle\"]=labelencoder.fit_transform(df[\"Type_of_vehicle\"])\n",
    "df[\"City\"]=labelencoder.fit_transform(df[\"City\"])\n",
    "df[\"Festival\"]=labelencoder.fit_transform(df[\"Festival\"])"
   ]
  },
  {
   "cell_type": "code",
   "execution_count": 83,
   "id": "b3f96687",
   "metadata": {},
   "outputs": [
    {
     "data": {
      "text/html": [
       "<div>\n",
       "<style scoped>\n",
       "    .dataframe tbody tr th:only-of-type {\n",
       "        vertical-align: middle;\n",
       "    }\n",
       "\n",
       "    .dataframe tbody tr th {\n",
       "        vertical-align: top;\n",
       "    }\n",
       "\n",
       "    .dataframe thead th {\n",
       "        text-align: right;\n",
       "    }\n",
       "</style>\n",
       "<table border=\"1\" class=\"dataframe\">\n",
       "  <thead>\n",
       "    <tr style=\"text-align: right;\">\n",
       "      <th></th>\n",
       "      <th>Customer_ID</th>\n",
       "      <th>Delivery_person_ID</th>\n",
       "      <th>Delivery_person_Age</th>\n",
       "      <th>Delivery_person_Ratings</th>\n",
       "      <th>Order_Date</th>\n",
       "      <th>Time_Ordered</th>\n",
       "      <th>Time_Order_picked</th>\n",
       "      <th>Weather_conditions</th>\n",
       "      <th>Traffic_conditions</th>\n",
       "      <th>Vehicle_condition</th>\n",
       "      <th>...</th>\n",
       "      <th>Time_taken(min)</th>\n",
       "      <th>day</th>\n",
       "      <th>month</th>\n",
       "      <th>year</th>\n",
       "      <th>Time_Ordered_hour</th>\n",
       "      <th>Time_Ordered_minute</th>\n",
       "      <th>Time_Order_picked_hour</th>\n",
       "      <th>Time_Order_picked_minute</th>\n",
       "      <th>prep_time</th>\n",
       "      <th>Distance</th>\n",
       "    </tr>\n",
       "  </thead>\n",
       "  <tbody>\n",
       "    <tr>\n",
       "      <th>0</th>\n",
       "      <td>9059</td>\n",
       "      <td>637</td>\n",
       "      <td>37.0</td>\n",
       "      <td>4.9</td>\n",
       "      <td>2022-03-19</td>\n",
       "      <td>11:30:00</td>\n",
       "      <td>11:45:00</td>\n",
       "      <td>4</td>\n",
       "      <td>0</td>\n",
       "      <td>2</td>\n",
       "      <td>...</td>\n",
       "      <td>24.0</td>\n",
       "      <td>19</td>\n",
       "      <td>3</td>\n",
       "      <td>2022</td>\n",
       "      <td>11.0</td>\n",
       "      <td>30.0</td>\n",
       "      <td>11.0</td>\n",
       "      <td>45.0</td>\n",
       "      <td>15.0</td>\n",
       "      <td>1.875583</td>\n",
       "    </tr>\n",
       "    <tr>\n",
       "      <th>1</th>\n",
       "      <td>28316</td>\n",
       "      <td>232</td>\n",
       "      <td>34.0</td>\n",
       "      <td>4.5</td>\n",
       "      <td>2022-03-25</td>\n",
       "      <td>19:45:00</td>\n",
       "      <td>19:50:00</td>\n",
       "      <td>3</td>\n",
       "      <td>1</td>\n",
       "      <td>2</td>\n",
       "      <td>...</td>\n",
       "      <td>33.0</td>\n",
       "      <td>25</td>\n",
       "      <td>3</td>\n",
       "      <td>2022</td>\n",
       "      <td>19.0</td>\n",
       "      <td>45.0</td>\n",
       "      <td>19.0</td>\n",
       "      <td>50.0</td>\n",
       "      <td>5.0</td>\n",
       "      <td>12.513725</td>\n",
       "    </tr>\n",
       "    <tr>\n",
       "      <th>2</th>\n",
       "      <td>13168</td>\n",
       "      <td>234</td>\n",
       "      <td>23.0</td>\n",
       "      <td>4.4</td>\n",
       "      <td>2022-03-19</td>\n",
       "      <td>8:30:00</td>\n",
       "      <td>8:45:00</td>\n",
       "      <td>2</td>\n",
       "      <td>2</td>\n",
       "      <td>0</td>\n",
       "      <td>...</td>\n",
       "      <td>26.0</td>\n",
       "      <td>19</td>\n",
       "      <td>3</td>\n",
       "      <td>2022</td>\n",
       "      <td>8.0</td>\n",
       "      <td>30.0</td>\n",
       "      <td>8.0</td>\n",
       "      <td>45.0</td>\n",
       "      <td>15.0</td>\n",
       "      <td>0.962705</td>\n",
       "    </tr>\n",
       "    <tr>\n",
       "      <th>3</th>\n",
       "      <td>18180</td>\n",
       "      <td>397</td>\n",
       "      <td>38.0</td>\n",
       "      <td>4.7</td>\n",
       "      <td>2022-05-04</td>\n",
       "      <td>18:00:00</td>\n",
       "      <td>18:10:00</td>\n",
       "      <td>4</td>\n",
       "      <td>3</td>\n",
       "      <td>0</td>\n",
       "      <td>...</td>\n",
       "      <td>21.0</td>\n",
       "      <td>4</td>\n",
       "      <td>5</td>\n",
       "      <td>2022</td>\n",
       "      <td>18.0</td>\n",
       "      <td>0.0</td>\n",
       "      <td>18.0</td>\n",
       "      <td>10.0</td>\n",
       "      <td>10.0</td>\n",
       "      <td>4.830024</td>\n",
       "    </tr>\n",
       "    <tr>\n",
       "      <th>4</th>\n",
       "      <td>16441</td>\n",
       "      <td>333</td>\n",
       "      <td>32.0</td>\n",
       "      <td>4.6</td>\n",
       "      <td>2022-03-26</td>\n",
       "      <td>13:30:00</td>\n",
       "      <td>13:45:00</td>\n",
       "      <td>0</td>\n",
       "      <td>0</td>\n",
       "      <td>1</td>\n",
       "      <td>...</td>\n",
       "      <td>30.0</td>\n",
       "      <td>26</td>\n",
       "      <td>3</td>\n",
       "      <td>2022</td>\n",
       "      <td>13.0</td>\n",
       "      <td>30.0</td>\n",
       "      <td>13.0</td>\n",
       "      <td>45.0</td>\n",
       "      <td>15.0</td>\n",
       "      <td>3.850266</td>\n",
       "    </tr>\n",
       "  </tbody>\n",
       "</table>\n",
       "<p>5 rows × 25 columns</p>\n",
       "</div>"
      ],
      "text/plain": [
       "   Customer_ID  Delivery_person_ID  Delivery_person_Age  \\\n",
       "0         9059                 637                 37.0   \n",
       "1        28316                 232                 34.0   \n",
       "2        13168                 234                 23.0   \n",
       "3        18180                 397                 38.0   \n",
       "4        16441                 333                 32.0   \n",
       "\n",
       "   Delivery_person_Ratings Order_Date Time_Ordered Time_Order_picked  \\\n",
       "0                      4.9 2022-03-19     11:30:00          11:45:00   \n",
       "1                      4.5 2022-03-25     19:45:00          19:50:00   \n",
       "2                      4.4 2022-03-19      8:30:00           8:45:00   \n",
       "3                      4.7 2022-05-04     18:00:00          18:10:00   \n",
       "4                      4.6 2022-03-26     13:30:00          13:45:00   \n",
       "\n",
       "   Weather_conditions  Traffic_conditions  Vehicle_condition  ...  \\\n",
       "0                   4                   0                  2  ...   \n",
       "1                   3                   1                  2  ...   \n",
       "2                   2                   2                  0  ...   \n",
       "3                   4                   3                  0  ...   \n",
       "4                   0                   0                  1  ...   \n",
       "\n",
       "   Time_taken(min)  day  month  year  Time_Ordered_hour  Time_Ordered_minute  \\\n",
       "0             24.0   19      3  2022               11.0                 30.0   \n",
       "1             33.0   25      3  2022               19.0                 45.0   \n",
       "2             26.0   19      3  2022                8.0                 30.0   \n",
       "3             21.0    4      5  2022               18.0                  0.0   \n",
       "4             30.0   26      3  2022               13.0                 30.0   \n",
       "\n",
       "   Time_Order_picked_hour  Time_Order_picked_minute  prep_time   Distance  \n",
       "0                    11.0                      45.0       15.0   1.875583  \n",
       "1                    19.0                      50.0        5.0  12.513725  \n",
       "2                     8.0                      45.0       15.0   0.962705  \n",
       "3                    18.0                      10.0       10.0   4.830024  \n",
       "4                    13.0                      45.0       15.0   3.850266  \n",
       "\n",
       "[5 rows x 25 columns]"
      ]
     },
     "execution_count": 83,
     "metadata": {},
     "output_type": "execute_result"
    }
   ],
   "source": [
    "df.head()"
   ]
  },
  {
   "cell_type": "markdown",
   "id": "e413ae25",
   "metadata": {},
   "source": [
    "# Model processing"
   ]
  },
  {
   "cell_type": "code",
   "execution_count": 84,
   "id": "1eb3796e",
   "metadata": {},
   "outputs": [
    {
     "data": {
      "text/html": [
       "<div>\n",
       "<style scoped>\n",
       "    .dataframe tbody tr th:only-of-type {\n",
       "        vertical-align: middle;\n",
       "    }\n",
       "\n",
       "    .dataframe tbody tr th {\n",
       "        vertical-align: top;\n",
       "    }\n",
       "\n",
       "    .dataframe thead th {\n",
       "        text-align: right;\n",
       "    }\n",
       "</style>\n",
       "<table border=\"1\" class=\"dataframe\">\n",
       "  <thead>\n",
       "    <tr style=\"text-align: right;\">\n",
       "      <th></th>\n",
       "      <th>Customer_ID</th>\n",
       "      <th>Delivery_person_ID</th>\n",
       "      <th>Delivery_person_Age</th>\n",
       "      <th>Delivery_person_Ratings</th>\n",
       "      <th>Weather_conditions</th>\n",
       "      <th>Traffic_conditions</th>\n",
       "      <th>Vehicle_condition</th>\n",
       "      <th>Type_of_order</th>\n",
       "      <th>Type_of_vehicle</th>\n",
       "      <th>multiple_deliveries</th>\n",
       "      <th>Festival</th>\n",
       "      <th>City</th>\n",
       "      <th>day</th>\n",
       "      <th>month</th>\n",
       "      <th>Time_Ordered_hour</th>\n",
       "      <th>Time_Ordered_minute</th>\n",
       "      <th>Time_Order_picked_hour</th>\n",
       "      <th>Time_Order_picked_minute</th>\n",
       "      <th>prep_time</th>\n",
       "      <th>Distance</th>\n",
       "    </tr>\n",
       "  </thead>\n",
       "  <tbody>\n",
       "    <tr>\n",
       "      <th>0</th>\n",
       "      <td>9059</td>\n",
       "      <td>637</td>\n",
       "      <td>37.0</td>\n",
       "      <td>4.9</td>\n",
       "      <td>4</td>\n",
       "      <td>0</td>\n",
       "      <td>2</td>\n",
       "      <td>3</td>\n",
       "      <td>1</td>\n",
       "      <td>0.0</td>\n",
       "      <td>0</td>\n",
       "      <td>2</td>\n",
       "      <td>19</td>\n",
       "      <td>3</td>\n",
       "      <td>11.0</td>\n",
       "      <td>30.0</td>\n",
       "      <td>11.0</td>\n",
       "      <td>45.0</td>\n",
       "      <td>15.0</td>\n",
       "      <td>1.875583</td>\n",
       "    </tr>\n",
       "    <tr>\n",
       "      <th>1</th>\n",
       "      <td>28316</td>\n",
       "      <td>232</td>\n",
       "      <td>34.0</td>\n",
       "      <td>4.5</td>\n",
       "      <td>3</td>\n",
       "      <td>1</td>\n",
       "      <td>2</td>\n",
       "      <td>3</td>\n",
       "      <td>2</td>\n",
       "      <td>1.0</td>\n",
       "      <td>0</td>\n",
       "      <td>0</td>\n",
       "      <td>25</td>\n",
       "      <td>3</td>\n",
       "      <td>19.0</td>\n",
       "      <td>45.0</td>\n",
       "      <td>19.0</td>\n",
       "      <td>50.0</td>\n",
       "      <td>5.0</td>\n",
       "      <td>12.513725</td>\n",
       "    </tr>\n",
       "    <tr>\n",
       "      <th>2</th>\n",
       "      <td>13168</td>\n",
       "      <td>234</td>\n",
       "      <td>23.0</td>\n",
       "      <td>4.4</td>\n",
       "      <td>2</td>\n",
       "      <td>2</td>\n",
       "      <td>0</td>\n",
       "      <td>1</td>\n",
       "      <td>1</td>\n",
       "      <td>1.0</td>\n",
       "      <td>0</td>\n",
       "      <td>2</td>\n",
       "      <td>19</td>\n",
       "      <td>3</td>\n",
       "      <td>8.0</td>\n",
       "      <td>30.0</td>\n",
       "      <td>8.0</td>\n",
       "      <td>45.0</td>\n",
       "      <td>15.0</td>\n",
       "      <td>0.962705</td>\n",
       "    </tr>\n",
       "    <tr>\n",
       "      <th>3</th>\n",
       "      <td>18180</td>\n",
       "      <td>397</td>\n",
       "      <td>38.0</td>\n",
       "      <td>4.7</td>\n",
       "      <td>4</td>\n",
       "      <td>3</td>\n",
       "      <td>0</td>\n",
       "      <td>0</td>\n",
       "      <td>1</td>\n",
       "      <td>1.0</td>\n",
       "      <td>0</td>\n",
       "      <td>0</td>\n",
       "      <td>4</td>\n",
       "      <td>5</td>\n",
       "      <td>18.0</td>\n",
       "      <td>0.0</td>\n",
       "      <td>18.0</td>\n",
       "      <td>10.0</td>\n",
       "      <td>10.0</td>\n",
       "      <td>4.830024</td>\n",
       "    </tr>\n",
       "    <tr>\n",
       "      <th>4</th>\n",
       "      <td>16441</td>\n",
       "      <td>333</td>\n",
       "      <td>32.0</td>\n",
       "      <td>4.6</td>\n",
       "      <td>0</td>\n",
       "      <td>0</td>\n",
       "      <td>1</td>\n",
       "      <td>3</td>\n",
       "      <td>2</td>\n",
       "      <td>1.0</td>\n",
       "      <td>0</td>\n",
       "      <td>0</td>\n",
       "      <td>26</td>\n",
       "      <td>3</td>\n",
       "      <td>13.0</td>\n",
       "      <td>30.0</td>\n",
       "      <td>13.0</td>\n",
       "      <td>45.0</td>\n",
       "      <td>15.0</td>\n",
       "      <td>3.850266</td>\n",
       "    </tr>\n",
       "    <tr>\n",
       "      <th>...</th>\n",
       "      <td>...</td>\n",
       "      <td>...</td>\n",
       "      <td>...</td>\n",
       "      <td>...</td>\n",
       "      <td>...</td>\n",
       "      <td>...</td>\n",
       "      <td>...</td>\n",
       "      <td>...</td>\n",
       "      <td>...</td>\n",
       "      <td>...</td>\n",
       "      <td>...</td>\n",
       "      <td>...</td>\n",
       "      <td>...</td>\n",
       "      <td>...</td>\n",
       "      <td>...</td>\n",
       "      <td>...</td>\n",
       "      <td>...</td>\n",
       "      <td>...</td>\n",
       "      <td>...</td>\n",
       "      <td>...</td>\n",
       "    </tr>\n",
       "    <tr>\n",
       "      <th>36610</th>\n",
       "      <td>18494</td>\n",
       "      <td>672</td>\n",
       "      <td>30.0</td>\n",
       "      <td>4.8</td>\n",
       "      <td>5</td>\n",
       "      <td>0</td>\n",
       "      <td>1</td>\n",
       "      <td>2</td>\n",
       "      <td>1</td>\n",
       "      <td>0.0</td>\n",
       "      <td>0</td>\n",
       "      <td>0</td>\n",
       "      <td>24</td>\n",
       "      <td>3</td>\n",
       "      <td>11.0</td>\n",
       "      <td>35.0</td>\n",
       "      <td>11.0</td>\n",
       "      <td>45.0</td>\n",
       "      <td>10.0</td>\n",
       "      <td>0.923700</td>\n",
       "    </tr>\n",
       "    <tr>\n",
       "      <th>36611</th>\n",
       "      <td>34187</td>\n",
       "      <td>45</td>\n",
       "      <td>21.0</td>\n",
       "      <td>4.6</td>\n",
       "      <td>5</td>\n",
       "      <td>1</td>\n",
       "      <td>0</td>\n",
       "      <td>0</td>\n",
       "      <td>1</td>\n",
       "      <td>1.0</td>\n",
       "      <td>0</td>\n",
       "      <td>0</td>\n",
       "      <td>16</td>\n",
       "      <td>2</td>\n",
       "      <td>19.0</td>\n",
       "      <td>55.0</td>\n",
       "      <td>20.0</td>\n",
       "      <td>10.0</td>\n",
       "      <td>15.0</td>\n",
       "      <td>6.824761</td>\n",
       "    </tr>\n",
       "    <tr>\n",
       "      <th>36612</th>\n",
       "      <td>10717</td>\n",
       "      <td>326</td>\n",
       "      <td>30.0</td>\n",
       "      <td>4.9</td>\n",
       "      <td>0</td>\n",
       "      <td>2</td>\n",
       "      <td>1</td>\n",
       "      <td>1</td>\n",
       "      <td>2</td>\n",
       "      <td>0.0</td>\n",
       "      <td>0</td>\n",
       "      <td>0</td>\n",
       "      <td>3</td>\n",
       "      <td>11</td>\n",
       "      <td>23.0</td>\n",
       "      <td>50.0</td>\n",
       "      <td>0.0</td>\n",
       "      <td>5.0</td>\n",
       "      <td>15.0</td>\n",
       "      <td>2.887447</td>\n",
       "    </tr>\n",
       "    <tr>\n",
       "      <th>36613</th>\n",
       "      <td>13433</td>\n",
       "      <td>390</td>\n",
       "      <td>20.0</td>\n",
       "      <td>4.7</td>\n",
       "      <td>0</td>\n",
       "      <td>0</td>\n",
       "      <td>0</td>\n",
       "      <td>3</td>\n",
       "      <td>1</td>\n",
       "      <td>1.0</td>\n",
       "      <td>0</td>\n",
       "      <td>0</td>\n",
       "      <td>3</td>\n",
       "      <td>7</td>\n",
       "      <td>13.0</td>\n",
       "      <td>35.0</td>\n",
       "      <td>13.0</td>\n",
       "      <td>40.0</td>\n",
       "      <td>5.0</td>\n",
       "      <td>3.864064</td>\n",
       "    </tr>\n",
       "    <tr>\n",
       "      <th>36614</th>\n",
       "      <td>13543</td>\n",
       "      <td>1168</td>\n",
       "      <td>23.0</td>\n",
       "      <td>4.9</td>\n",
       "      <td>1</td>\n",
       "      <td>3</td>\n",
       "      <td>2</td>\n",
       "      <td>3</td>\n",
       "      <td>2</td>\n",
       "      <td>1.0</td>\n",
       "      <td>0</td>\n",
       "      <td>0</td>\n",
       "      <td>3</td>\n",
       "      <td>2</td>\n",
       "      <td>17.0</td>\n",
       "      <td>10.0</td>\n",
       "      <td>17.0</td>\n",
       "      <td>15.0</td>\n",
       "      <td>5.0</td>\n",
       "      <td>7.486087</td>\n",
       "    </tr>\n",
       "  </tbody>\n",
       "</table>\n",
       "<p>36615 rows × 20 columns</p>\n",
       "</div>"
      ],
      "text/plain": [
       "       Customer_ID  Delivery_person_ID  Delivery_person_Age  \\\n",
       "0             9059                 637                 37.0   \n",
       "1            28316                 232                 34.0   \n",
       "2            13168                 234                 23.0   \n",
       "3            18180                 397                 38.0   \n",
       "4            16441                 333                 32.0   \n",
       "...            ...                 ...                  ...   \n",
       "36610        18494                 672                 30.0   \n",
       "36611        34187                  45                 21.0   \n",
       "36612        10717                 326                 30.0   \n",
       "36613        13433                 390                 20.0   \n",
       "36614        13543                1168                 23.0   \n",
       "\n",
       "       Delivery_person_Ratings  Weather_conditions  Traffic_conditions  \\\n",
       "0                          4.9                   4                   0   \n",
       "1                          4.5                   3                   1   \n",
       "2                          4.4                   2                   2   \n",
       "3                          4.7                   4                   3   \n",
       "4                          4.6                   0                   0   \n",
       "...                        ...                 ...                 ...   \n",
       "36610                      4.8                   5                   0   \n",
       "36611                      4.6                   5                   1   \n",
       "36612                      4.9                   0                   2   \n",
       "36613                      4.7                   0                   0   \n",
       "36614                      4.9                   1                   3   \n",
       "\n",
       "       Vehicle_condition  Type_of_order  Type_of_vehicle  multiple_deliveries  \\\n",
       "0                      2              3                1                  0.0   \n",
       "1                      2              3                2                  1.0   \n",
       "2                      0              1                1                  1.0   \n",
       "3                      0              0                1                  1.0   \n",
       "4                      1              3                2                  1.0   \n",
       "...                  ...            ...              ...                  ...   \n",
       "36610                  1              2                1                  0.0   \n",
       "36611                  0              0                1                  1.0   \n",
       "36612                  1              1                2                  0.0   \n",
       "36613                  0              3                1                  1.0   \n",
       "36614                  2              3                2                  1.0   \n",
       "\n",
       "       Festival  City  day  month  Time_Ordered_hour  Time_Ordered_minute  \\\n",
       "0             0     2   19      3               11.0                 30.0   \n",
       "1             0     0   25      3               19.0                 45.0   \n",
       "2             0     2   19      3                8.0                 30.0   \n",
       "3             0     0    4      5               18.0                  0.0   \n",
       "4             0     0   26      3               13.0                 30.0   \n",
       "...         ...   ...  ...    ...                ...                  ...   \n",
       "36610         0     0   24      3               11.0                 35.0   \n",
       "36611         0     0   16      2               19.0                 55.0   \n",
       "36612         0     0    3     11               23.0                 50.0   \n",
       "36613         0     0    3      7               13.0                 35.0   \n",
       "36614         0     0    3      2               17.0                 10.0   \n",
       "\n",
       "       Time_Order_picked_hour  Time_Order_picked_minute  prep_time   Distance  \n",
       "0                        11.0                      45.0       15.0   1.875583  \n",
       "1                        19.0                      50.0        5.0  12.513725  \n",
       "2                         8.0                      45.0       15.0   0.962705  \n",
       "3                        18.0                      10.0       10.0   4.830024  \n",
       "4                        13.0                      45.0       15.0   3.850266  \n",
       "...                       ...                       ...        ...        ...  \n",
       "36610                    11.0                      45.0       10.0   0.923700  \n",
       "36611                    20.0                      10.0       15.0   6.824761  \n",
       "36612                     0.0                       5.0       15.0   2.887447  \n",
       "36613                    13.0                      40.0        5.0   3.864064  \n",
       "36614                    17.0                      15.0        5.0   7.486087  \n",
       "\n",
       "[36615 rows x 20 columns]"
      ]
     },
     "execution_count": 84,
     "metadata": {},
     "output_type": "execute_result"
    }
   ],
   "source": [
    "X=df.drop(['Time_taken(min)','Order_Date','Time_Ordered','Time_Order_picked','year'], axis='columns')\n",
    "X"
   ]
  },
  {
   "cell_type": "markdown",
   "id": "e6eef9a8",
   "metadata": {},
   "source": [
    "# Feature scaling\n",
    "#### feature_range=(0, 1)"
   ]
  },
  {
   "cell_type": "code",
   "execution_count": 85,
   "id": "ce0de94b",
   "metadata": {},
   "outputs": [],
   "source": [
    "from sklearn.preprocessing import MinMaxScaler\n",
    "scaler = MinMaxScaler()\n",
    "X= scaler.fit_transform(X)"
   ]
  },
  {
   "cell_type": "code",
   "execution_count": 86,
   "id": "413e9bc7",
   "metadata": {},
   "outputs": [],
   "source": [
    "y=df['Time_taken(min)']"
   ]
  },
  {
   "cell_type": "markdown",
   "id": "304db78e",
   "metadata": {},
   "source": [
    "## train_test_split"
   ]
  },
  {
   "cell_type": "code",
   "execution_count": 87,
   "id": "40536561",
   "metadata": {},
   "outputs": [],
   "source": [
    "from sklearn.model_selection import train_test_split"
   ]
  },
  {
   "cell_type": "code",
   "execution_count": 88,
   "id": "61e6d855",
   "metadata": {},
   "outputs": [],
   "source": [
    "X_train, X_test,y_train,y_test = train_test_split(X,y,test_size=0.2)"
   ]
  },
  {
   "cell_type": "markdown",
   "id": "3f56c68b",
   "metadata": {},
   "source": [
    "## Regression models"
   ]
  },
  {
   "cell_type": "code",
   "execution_count": 89,
   "id": "8b905038",
   "metadata": {},
   "outputs": [],
   "source": [
    "DTR = DecisionTreeRegressor(max_features=10)\n",
    "KNN=KNeighborsRegressor(n_neighbors=6)\n",
    "RFR = RandomForestRegressor(n_estimators=40,random_state=5)\n",
    "LR = LinearRegression()"
   ]
  },
  {
   "cell_type": "code",
   "execution_count": 90,
   "id": "bc1ec9fa",
   "metadata": {},
   "outputs": [],
   "source": [
    "Models = {\"Decision tree\" : DTR,\n",
    "          \"KNeighbors Regressor\" : KNN,\n",
    "          \"Random forest\" : RFR,\n",
    "          \"Linear Regression\" : LR}\n",
    "scores= { }\n",
    "MSE={ }"
   ]
  },
  {
   "cell_type": "code",
   "execution_count": 91,
   "id": "f8beb7c3",
   "metadata": {},
   "outputs": [
    {
     "name": "stdout",
     "output_type": "stream",
     "text": [
      "Decision tree\n",
      "KNeighbors Regressor\n",
      "Random forest\n",
      "Linear Regression\n"
     ]
    }
   ],
   "source": [
    "for key, value in Models.items():   \n",
    "    print(key)\n",
    "    model = value\n",
    "    model.fit(X_train, y_train)\n",
    "    y_pred=model.predict(X_test)\n",
    "    scores[key] = model.score(X_test, y_test)\n",
    "    MSE[key]=np.sqrt(metrics.mean_squared_error(y_test, y_pred))"
   ]
  },
  {
   "cell_type": "code",
   "execution_count": 92,
   "id": "b9a3e5db",
   "metadata": {},
   "outputs": [
    {
     "data": {
      "text/html": [
       "<div>\n",
       "<style scoped>\n",
       "    .dataframe tbody tr th:only-of-type {\n",
       "        vertical-align: middle;\n",
       "    }\n",
       "\n",
       "    .dataframe tbody tr th {\n",
       "        vertical-align: top;\n",
       "    }\n",
       "\n",
       "    .dataframe thead th {\n",
       "        text-align: right;\n",
       "    }\n",
       "</style>\n",
       "<table border=\"1\" class=\"dataframe\">\n",
       "  <thead>\n",
       "    <tr style=\"text-align: right;\">\n",
       "      <th></th>\n",
       "      <th>Accuracy Score</th>\n",
       "    </tr>\n",
       "  </thead>\n",
       "  <tbody>\n",
       "    <tr>\n",
       "      <th>Random forest</th>\n",
       "      <td>0.822171</td>\n",
       "    </tr>\n",
       "    <tr>\n",
       "      <th>Decision tree</th>\n",
       "      <td>0.659656</td>\n",
       "    </tr>\n",
       "    <tr>\n",
       "      <th>KNeighbors Regressor</th>\n",
       "      <td>0.520587</td>\n",
       "    </tr>\n",
       "    <tr>\n",
       "      <th>Linear Regression</th>\n",
       "      <td>0.472646</td>\n",
       "    </tr>\n",
       "  </tbody>\n",
       "</table>\n",
       "</div>"
      ],
      "text/plain": [
       "                      Accuracy Score\n",
       "Random forest               0.822171\n",
       "Decision tree               0.659656\n",
       "KNeighbors Regressor        0.520587\n",
       "Linear Regression           0.472646"
      ]
     },
     "execution_count": 92,
     "metadata": {},
     "output_type": "execute_result"
    }
   ],
   "source": [
    "scores_frame = pd.DataFrame(scores,index=[\"Accuracy Score\"]).T\n",
    "scores_frame.sort_values(by=[\"Accuracy Score\"], axis=0 ,ascending=False, inplace=True)\n",
    "scores_frame"
   ]
  },
  {
   "cell_type": "code",
   "execution_count": 93,
   "id": "8d8c6113",
   "metadata": {},
   "outputs": [
    {
     "data": {
      "text/html": [
       "<div>\n",
       "<style scoped>\n",
       "    .dataframe tbody tr th:only-of-type {\n",
       "        vertical-align: middle;\n",
       "    }\n",
       "\n",
       "    .dataframe tbody tr th {\n",
       "        vertical-align: top;\n",
       "    }\n",
       "\n",
       "    .dataframe thead th {\n",
       "        text-align: right;\n",
       "    }\n",
       "</style>\n",
       "<table border=\"1\" class=\"dataframe\">\n",
       "  <thead>\n",
       "    <tr style=\"text-align: right;\">\n",
       "      <th></th>\n",
       "      <th>Root Mean Squared Error</th>\n",
       "    </tr>\n",
       "  </thead>\n",
       "  <tbody>\n",
       "    <tr>\n",
       "      <th>Random forest</th>\n",
       "      <td>3.789983</td>\n",
       "    </tr>\n",
       "    <tr>\n",
       "      <th>Decision tree</th>\n",
       "      <td>5.243178</td>\n",
       "    </tr>\n",
       "    <tr>\n",
       "      <th>KNeighbors Regressor</th>\n",
       "      <td>6.222868</td>\n",
       "    </tr>\n",
       "    <tr>\n",
       "      <th>Linear Regression</th>\n",
       "      <td>6.526601</td>\n",
       "    </tr>\n",
       "  </tbody>\n",
       "</table>\n",
       "</div>"
      ],
      "text/plain": [
       "                      Root Mean Squared Error\n",
       "Random forest                        3.789983\n",
       "Decision tree                        5.243178\n",
       "KNeighbors Regressor                 6.222868\n",
       "Linear Regression                    6.526601"
      ]
     },
     "execution_count": 93,
     "metadata": {},
     "output_type": "execute_result"
    }
   ],
   "source": [
    "scores_frame = pd.DataFrame(MSE,index=[\"Root Mean Squared Error\"]).T\n",
    "scores_frame.sort_values(by=[\"Root Mean Squared Error\"], axis=0 ,ascending=True, inplace=True)\n",
    "scores_frame"
   ]
  },
  {
   "cell_type": "markdown",
   "id": "311db51b",
   "metadata": {},
   "source": [
    "# K-fold Cross Validation"
   ]
  },
  {
   "cell_type": "code",
   "execution_count": 94,
   "id": "7f7c754b",
   "metadata": {},
   "outputs": [],
   "source": [
    "from sklearn.model_selection import KFold\n",
    "cv = KFold(n_splits=5,shuffle=True)"
   ]
  },
  {
   "cell_type": "code",
   "execution_count": 95,
   "id": "7f274d4a",
   "metadata": {},
   "outputs": [],
   "source": [
    "def get_score(model,X_train, X_test, y_train, y_test):\n",
    "    model.fit(X_train,y_train)\n",
    "    return model.score(X_test,y_test)"
   ]
  },
  {
   "cell_type": "code",
   "execution_count": 96,
   "id": "7def51d3",
   "metadata": {},
   "outputs": [
    {
     "name": "stdout",
     "output_type": "stream",
     "text": [
      "Ran_for_score = 0.820850460583519\n",
      "Lin_reg_score = 0.46409154876159925\n",
      "KNN_score = 0.5152392508313969\n",
      "Des_tre_score = 0.6550892836247862\n"
     ]
    }
   ],
   "source": [
    "score_LR=[]\n",
    "score_SVM=[]\n",
    "score_RFR=[]\n",
    "score_KNN=[]\n",
    "score_DTR=[]\n",
    "for train_index, test_index in cv.split(X,y):\n",
    "    X_train, X_test, y_train, y_test=X[train_index],X[test_index],y[train_index],y[test_index]\n",
    "    score_LR.append(get_score(LR,X_train, X_test, y_train, y_test))\n",
    "    score_RFR.append(get_score(RFR,X_train, X_test, y_train, y_test))\n",
    "    score_KNN.append(get_score(KNN,X_train, X_test, y_train, y_test))\n",
    "    score_DTR.append(get_score(DTR,X_train, X_test, y_train, y_test))\n",
    "print('Ran_for_score =', np.mean(score_RFR))\n",
    "print('Lin_reg_score =', np.mean(score_LR))\n",
    "print('KNN_score =', np.mean(score_KNN))\n",
    "print('Des_tre_score =', np.mean(score_DTR))"
   ]
  },
  {
   "cell_type": "code",
   "execution_count": 97,
   "id": "317d350e",
   "metadata": {},
   "outputs": [],
   "source": [
    "#from sklearn.feature_selection import RFE\n",
    "#rfe = RFE(estimator =RandomForestRegressor(), n_features_to_select=10, step=1)\n",
    "#rfe=rfe.fit(X, y)\n",
    "#rfe.ranking_"
   ]
  },
  {
   "cell_type": "markdown",
   "id": "a7f2afee",
   "metadata": {},
   "source": [
    "# Feature importances"
   ]
  },
  {
   "cell_type": "code",
   "execution_count": 98,
   "id": "ef86711a",
   "metadata": {},
   "outputs": [],
   "source": [
    "XX=df.drop(['Time_taken(min)','Order_Date','Time_Ordered','Time_Order_picked','year'], axis='columns')"
   ]
  },
  {
   "cell_type": "code",
   "execution_count": 99,
   "id": "64d3a8d0",
   "metadata": {},
   "outputs": [],
   "source": [
    "feature_list=list(XX.columns)"
   ]
  },
  {
   "cell_type": "code",
   "execution_count": 100,
   "id": "2222ccc8",
   "metadata": {},
   "outputs": [],
   "source": [
    "feature_imp=pd.Series(RFR.feature_importances_, index=feature_list).sort_values(ascending=False)"
   ]
  },
  {
   "cell_type": "code",
   "execution_count": 101,
   "id": "1d186d74",
   "metadata": {},
   "outputs": [
    {
     "data": {
      "text/plain": [
       "Delivery_person_Ratings     0.179627\n",
       "Weather_conditions          0.169276\n",
       "multiple_deliveries         0.110921\n",
       "Distance                    0.109580\n",
       "Traffic_conditions          0.090430\n",
       "Delivery_person_Age         0.081448\n",
       "Time_Ordered_hour           0.068758\n",
       "Vehicle_condition           0.067566\n",
       "Customer_ID                 0.023068\n",
       "Delivery_person_ID          0.022940\n",
       "Time_Order_picked_hour      0.011542\n",
       "day                         0.011069\n",
       "Time_Order_picked_minute    0.010380\n",
       "Time_Ordered_minute         0.010258\n",
       "Festival                    0.006964\n",
       "month                       0.006851\n",
       "Type_of_order               0.006743\n",
       "City                        0.004906\n",
       "prep_time                   0.004875\n",
       "Type_of_vehicle             0.002800\n",
       "dtype: float64"
      ]
     },
     "execution_count": 101,
     "metadata": {},
     "output_type": "execute_result"
    }
   ],
   "source": [
    "feature_imp"
   ]
  },
  {
   "cell_type": "code",
   "execution_count": null,
   "id": "3f519960",
   "metadata": {},
   "outputs": [],
   "source": []
  },
  {
   "cell_type": "code",
   "execution_count": null,
   "id": "c2ef9991",
   "metadata": {},
   "outputs": [],
   "source": []
  }
 ],
 "metadata": {
  "kernelspec": {
   "display_name": "Python 3 (ipykernel)",
   "language": "python",
   "name": "python3"
  },
  "language_info": {
   "codemirror_mode": {
    "name": "ipython",
    "version": 3
   },
   "file_extension": ".py",
   "mimetype": "text/x-python",
   "name": "python",
   "nbconvert_exporter": "python",
   "pygments_lexer": "ipython3",
   "version": "3.9.7"
  }
 },
 "nbformat": 4,
 "nbformat_minor": 5
}
